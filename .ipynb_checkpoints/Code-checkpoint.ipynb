{
 "cells": [
  {
   "cell_type": "code",
   "execution_count": 187,
   "id": "68855117",
   "metadata": {},
   "outputs": [],
   "source": [
    "import numpy as np \n",
    "import matplotlib.pyplot as plt \n",
    "import tensorflow\n",
    "from tensorflow import keras\n",
    "from tensorflow.keras import Sequential\n",
    "from tensorflow.keras.layers import Dense, Flatten, Conv2D, MaxPooling2D\n",
    "from sklearn.model_selection import train_test_split  \n",
    "from tensorflow.keras.utils import to_categorical \n",
    "from sklearn.metrics import classification_report, confusion_matrix \n",
    "from tensorflow.keras.preprocessing.image import ImageDataGenerator\n",
    "import seaborn as sns\n",
    "import cv2  "
   ]
  },
  {
   "cell_type": "code",
   "execution_count": 153,
   "id": "e3121a26",
   "metadata": {},
   "outputs": [],
   "source": [
    "%matplotlib inline"
   ]
  },
  {
   "cell_type": "code",
   "execution_count": 154,
   "id": "7c04d91c",
   "metadata": {},
   "outputs": [],
   "source": [
    "images_path = './images'\n",
    "sample_image = cv2.imread(f'{images_path}/6--2.jpg') \n",
    "sample_image = cv2.resize(sample_image, (28, 28)) "
   ]
  },
  {
   "cell_type": "code",
   "execution_count": 155,
   "id": "afd5c743",
   "metadata": {},
   "outputs": [
    {
     "data": {
      "text/plain": [
       "<matplotlib.image.AxesImage at 0x2392f995430>"
      ]
     },
     "execution_count": 155,
     "metadata": {},
     "output_type": "execute_result"
    },
    {
     "data": {
      "image/png": "[encoded data removed]",
      "text/plain": [
       "<Figure size 432x288 with 1 Axes>"
      ]
     },
     "metadata": {
      "needs_background": "light"
     },
     "output_type": "display_data"
    }
   ],
   "source": [
    "plt.imshow(sample_image)"
   ]
  },
  {
   "cell_type": "code",
   "execution_count": 156,
   "id": "1f220d87",
   "metadata": {},
   "outputs": [],
   "source": [
    "X = [] \n",
    "y = []"
   ]
  },
  {
   "cell_type": "code",
   "execution_count": 157,
   "id": "24f69298",
   "metadata": {},
   "outputs": [],
   "source": [
    "def conv_binary(image):\n",
    "    gray_image = cv2.cvtColor(image, cv2.COLOR_RGB2GRAY)\n",
    "    blurred_image = cv2.GaussianBlur(gray_image, (5, 5), 0)\n",
    "    _, binary_image = cv2.threshold(blurred_image, 127, 255, cv2.THRESH_BINARY) \n",
    "    out_image = cv2.bitwise_not(binary_image) \n",
    "    return cv2.resize(out_image, (28, 28))    "
   ]
  },
  {
   "cell_type": "code",
   "execution_count": 158,
   "id": "ef602fc2",
   "metadata": {},
   "outputs": [],
   "source": [
    "for i in range(10):\n",
    "    for j in range(20):\n",
    "        image = cv2.imread(f'{images_path}/{i}--{j+1}.jpg')\n",
    "        image = conv_binary(image).astype(float) / 255 \n",
    "        X.append(image)\n",
    "        y.append(i) "
   ]
  },
  {
   "cell_type": "code",
   "execution_count": 159,
   "id": "00e20a0b",
   "metadata": {},
   "outputs": [
    {
     "data": {
      "text/plain": [
       "Text(0.5, 1.0, 'Label = 7')"
      ]
     },
     "execution_count": 159,
     "metadata": {},
     "output_type": "execute_result"
    },
    {
     "data": {
      "image/png": "[encoded data removed]",
      "text/plain": [
       "<Figure size 432x288 with 1 Axes>"
      ]
     },
     "metadata": {
      "needs_background": "light"
     },
     "output_type": "display_data"
    }
   ],
   "source": [
    "plt.imshow(X[150], cmap='gray')  \n",
    "plt.title(f'Label = {y[150]}')\n",
    "# print(f'Digit : {y[150]}')"
   ]
  },
  {
   "cell_type": "code",
   "execution_count": 160,
   "id": "8f2b1aba",
   "metadata": {},
   "outputs": [],
   "source": [
    "X = np.array(X) \n",
    "y = np.array(y)"
   ]
  },
  {
   "cell_type": "code",
   "execution_count": 161,
   "id": "e72b8200",
   "metadata": {},
   "outputs": [],
   "source": [
    "X_train, X_test, y_train, y_test = train_test_split(X, y, test_size=0.25, stratify=y, random_state=42) \n",
    "# X_test, X_val, y_test, y_val = train_test_split(X_temp, y_temp, test_size=0.4, stratify=y_temp, random_state=42)"
   ]
  },
  {
   "cell_type": "code",
   "execution_count": 162,
   "id": "7f46737b",
   "metadata": {},
   "outputs": [
    {
     "name": "stdout",
     "output_type": "stream",
     "text": [
      "shape of training set : (150, 28, 28)\n",
      "shape of test set : (50, 28, 28)\n"
     ]
    }
   ],
   "source": [
    "print(f'shape of training set : {X_train.shape}')\n",
    "print(f'shape of test set : {X_test.shape}')\n",
    "# print(f'shape of validation set : {X_val.shape}') "
   ]
  },
  {
   "cell_type": "code",
   "execution_count": 163,
   "id": "6d6aa5ed",
   "metadata": {},
   "outputs": [],
   "source": [
    "ann_model = Sequential()\n",
    "\n",
    "ann_model.add(Flatten(input_shape=(28,28))) \n",
    "ann_model.add(Dense(128,activation=\"relu\"))\n",
    "# model.add(Dense(32,activation=\"relu\"))\n",
    "ann_model.add(Dense(10,activation=\"softmax\"))  "
   ]
  },
  {
   "cell_type": "code",
   "execution_count": 164,
   "id": "c84d9d4a",
   "metadata": {},
   "outputs": [
    {
     "name": "stdout",
     "output_type": "stream",
     "text": [
      "Model: \"sequential_12\"\n",
      "_________________________________________________________________\n",
      " Layer (type)                Output Shape              Param #   \n",
      "=================================================================\n",
      " flatten_8 (Flatten)         (None, 784)               0         \n",
      "                                                                 \n",
      " dense_14 (Dense)            (None, 128)               100480    \n",
      "                                                                 \n",
      " dense_15 (Dense)            (None, 10)                1290      \n",
      "                                                                 \n",
      "=================================================================\n",
      "Total params: 101770 (397.54 KB)\n",
      "Trainable params: 101770 (397.54 KB)\n",
      "Non-trainable params: 0 (0.00 Byte)\n",
      "_________________________________________________________________\n"
     ]
    }
   ],
   "source": [
    "ann_model.summary()"
   ]
  },
  {
   "cell_type": "code",
   "execution_count": 165,
   "id": "c8e26bdb",
   "metadata": {},
   "outputs": [],
   "source": [
    "ann_model.compile(loss=\"sparse_categorical_crossentropy\",optimizer=\"Adam\",metrics=[\"accuracy\"])"
   ]
  },
  {
   "cell_type": "code",
   "execution_count": 166,
   "id": "f640590e",
   "metadata": {},
   "outputs": [
    {
     "name": "stdout",
     "output_type": "stream",
     "text": [
      "Epoch 1/25\n",
      "3/3 [==============================] - 2s 302ms/step - loss: 2.3805 - accuracy: 0.1333 - val_loss: 2.1429 - val_accuracy: 0.2500\n",
      "Epoch 2/25\n",
      "3/3 [==============================] - 0s 56ms/step - loss: 1.9343 - accuracy: 0.5111 - val_loss: 1.9120 - val_accuracy: 0.4667\n",
      "Epoch 3/25\n",
      "3/3 [==============================] - 0s 57ms/step - loss: 1.6513 - accuracy: 0.7556 - val_loss: 1.7238 - val_accuracy: 0.6000\n",
      "Epoch 4/25\n",
      "3/3 [==============================] - 0s 51ms/step - loss: 1.3872 - accuracy: 0.8444 - val_loss: 1.5531 - val_accuracy: 0.6833\n",
      "Epoch 5/25\n",
      "3/3 [==============================] - 0s 55ms/step - loss: 1.1827 - accuracy: 0.9111 - val_loss: 1.3873 - val_accuracy: 0.7167\n",
      "Epoch 6/25\n",
      "3/3 [==============================] - 0s 58ms/step - loss: 1.0002 - accuracy: 0.9444 - val_loss: 1.2393 - val_accuracy: 0.7500\n",
      "Epoch 7/25\n",
      "3/3 [==============================] - 0s 53ms/step - loss: 0.8512 - accuracy: 0.9556 - val_loss: 1.1168 - val_accuracy: 0.7667\n",
      "Epoch 8/25\n",
      "3/3 [==============================] - 0s 57ms/step - loss: 0.7309 - accuracy: 0.9667 - val_loss: 1.0130 - val_accuracy: 0.7833\n",
      "Epoch 9/25\n",
      "3/3 [==============================] - 0s 61ms/step - loss: 0.6275 - accuracy: 0.9778 - val_loss: 0.9295 - val_accuracy: 0.7833\n",
      "Epoch 10/25\n",
      "3/3 [==============================] - 0s 60ms/step - loss: 0.5468 - accuracy: 0.9889 - val_loss: 0.8596 - val_accuracy: 0.7833\n",
      "Epoch 11/25\n",
      "3/3 [==============================] - 0s 54ms/step - loss: 0.4810 - accuracy: 1.0000 - val_loss: 0.8053 - val_accuracy: 0.8000\n",
      "Epoch 12/25\n",
      "3/3 [==============================] - 0s 53ms/step - loss: 0.4236 - accuracy: 1.0000 - val_loss: 0.7632 - val_accuracy: 0.8000\n",
      "Epoch 13/25\n",
      "3/3 [==============================] - 0s 57ms/step - loss: 0.3778 - accuracy: 1.0000 - val_loss: 0.7307 - val_accuracy: 0.8000\n",
      "Epoch 14/25\n",
      "3/3 [==============================] - 0s 57ms/step - loss: 0.3354 - accuracy: 1.0000 - val_loss: 0.7060 - val_accuracy: 0.8000\n",
      "Epoch 15/25\n",
      "3/3 [==============================] - 0s 57ms/step - loss: 0.2992 - accuracy: 1.0000 - val_loss: 0.6868 - val_accuracy: 0.7833\n",
      "Epoch 16/25\n",
      "3/3 [==============================] - 0s 51ms/step - loss: 0.2713 - accuracy: 1.0000 - val_loss: 0.6718 - val_accuracy: 0.7833\n",
      "Epoch 17/25\n",
      "3/3 [==============================] - 0s 52ms/step - loss: 0.2410 - accuracy: 1.0000 - val_loss: 0.6570 - val_accuracy: 0.7833\n",
      "Epoch 18/25\n",
      "3/3 [==============================] - 0s 53ms/step - loss: 0.2180 - accuracy: 1.0000 - val_loss: 0.6438 - val_accuracy: 0.7833\n",
      "Epoch 19/25\n",
      "3/3 [==============================] - 0s 58ms/step - loss: 0.1975 - accuracy: 1.0000 - val_loss: 0.6309 - val_accuracy: 0.7833\n",
      "Epoch 20/25\n",
      "3/3 [==============================] - 0s 56ms/step - loss: 0.1778 - accuracy: 1.0000 - val_loss: 0.6201 - val_accuracy: 0.8000\n",
      "Epoch 21/25\n",
      "3/3 [==============================] - 0s 51ms/step - loss: 0.1612 - accuracy: 1.0000 - val_loss: 0.6102 - val_accuracy: 0.8000\n",
      "Epoch 22/25\n",
      "3/3 [==============================] - 0s 54ms/step - loss: 0.1469 - accuracy: 1.0000 - val_loss: 0.6023 - val_accuracy: 0.8000\n",
      "Epoch 23/25\n",
      "3/3 [==============================] - 0s 55ms/step - loss: 0.1323 - accuracy: 1.0000 - val_loss: 0.5945 - val_accuracy: 0.8167\n",
      "Epoch 24/25\n",
      "3/3 [==============================] - 0s 52ms/step - loss: 0.1209 - accuracy: 1.0000 - val_loss: 0.5876 - val_accuracy: 0.8167\n",
      "Epoch 25/25\n",
      "3/3 [==============================] - 0s 55ms/step - loss: 0.1099 - accuracy: 1.0000 - val_loss: 0.5826 - val_accuracy: 0.8167\n"
     ]
    }
   ],
   "source": [
    "info = ann_model.fit(X_train,y_train,epochs=25,validation_split=0.4)"
   ]
  },
  {
   "cell_type": "code",
   "execution_count": 167,
   "id": "15ec48a5",
   "metadata": {},
   "outputs": [
    {
     "name": "stdout",
     "output_type": "stream",
     "text": [
      "2/2 [==============================] - 0s 7ms/step\n"
     ]
    }
   ],
   "source": [
    "y_prob = ann_model.predict(X_test)"
   ]
  },
  {
   "cell_type": "code",
   "execution_count": 168,
   "id": "dedd4934",
   "metadata": {},
   "outputs": [],
   "source": [
    "y_pred = y_prob.argmax(axis=1) "
   ]
  },
  {
   "cell_type": "code",
   "execution_count": 169,
   "id": "608f7df6",
   "metadata": {},
   "outputs": [
    {
     "name": "stdout",
     "output_type": "stream",
     "text": [
      "              precision    recall  f1-score   support\n",
      "\n",
      "           0       1.00      0.80      0.89         5\n",
      "           1       0.83      1.00      0.91         5\n",
      "           2       0.50      0.40      0.44         5\n",
      "           3       0.83      1.00      0.91         5\n",
      "           4       0.67      0.80      0.73         5\n",
      "           5       1.00      1.00      1.00         5\n",
      "           6       1.00      0.80      0.89         5\n",
      "           7       1.00      1.00      1.00         5\n",
      "           8       1.00      1.00      1.00         5\n",
      "           9       1.00      1.00      1.00         5\n",
      "\n",
      "    accuracy                           0.88        50\n",
      "   macro avg       0.88      0.88      0.88        50\n",
      "weighted avg       0.88      0.88      0.88        50\n",
      "\n"
     ]
    }
   ],
   "source": [
    "from sklearn.metrics import classification_report\n",
    "print(classification_report(y_test,y_pred))"
   ]
  },
  {
   "cell_type": "code",
   "execution_count": 170,
   "id": "a3f3bb8e",
   "metadata": {},
   "outputs": [
    {
     "data": {
      "text/plain": [
       "Text(0.5, 1.0, 'Confusion Matrix')"
      ]
     },
     "execution_count": 170,
     "metadata": {},
     "output_type": "execute_result"
    },
    {
     "data": {
      "image/png": "[encoded data removed]",
      "text/plain": [
       "<Figure size 432x288 with 2 Axes>"
      ]
     },
     "metadata": {
      "needs_background": "light"
     },
     "output_type": "display_data"
    }
   ],
   "source": [
    "sns.heatmap(confusion_matrix(y_test, y_pred), annot=True, cmap=\"Blues\", square=True,\n",
    "            xticklabels=np.arange(10), yticklabels=np.arange(10), linewidths=0.5, linecolor='black')\n",
    "plt.xlabel('Predicted Label')\n",
    "plt.ylabel('True Label')\n",
    "plt.title('Confusion Matrix')"
   ]
  },
  {
   "cell_type": "code",
   "execution_count": 171,
   "id": "220eb2bb",
   "metadata": {},
   "outputs": [
    {
     "data": {
      "text/plain": [
       "Text(0.5, 1.0, 'predicted : 9')"
      ]
     },
     "execution_count": 171,
     "metadata": {},
     "output_type": "execute_result"
    },
    {
     "data": {
      "image/png": "[encoded data removed]",
      "text/plain": [
       "<Figure size 432x288 with 1 Axes>"
      ]
     },
     "metadata": {
      "needs_background": "light"
     },
     "output_type": "display_data"
    }
   ],
   "source": [
    "plt.imshow(X_test[13], cmap='gray') \n",
    "plt.title(f'predicted : {y_pred[13]}')\n",
    "# print(f'predicted : {y_pred[13]}')"
   ]
  },
  {
   "cell_type": "code",
   "execution_count": 175,
   "id": "a5e76300",
   "metadata": {},
   "outputs": [
    {
     "data": {
      "text/plain": [
       "<matplotlib.legend.Legend at 0x2392fe20d60>"
      ]
     },
     "execution_count": 175,
     "metadata": {},
     "output_type": "execute_result"
    },
    {
     "data": {
      "image/png": "[encoded data removed]",
      "text/plain": [
       "<Figure size 432x288 with 1 Axes>"
      ]
     },
     "metadata": {
      "needs_background": "light"
     },
     "output_type": "display_data"
    }
   ],
   "source": [
    "plt.plot(info.history['loss'], color='red', label='Train')  \n",
    "plt.plot(info.history['val_loss'], color='blue', label='Validation') \n",
    "plt.title('Loss vs iterarion') \n",
    "plt.xlabel('iter.') \n",
    "plt.legend()"
   ]
  },
  {
   "cell_type": "code",
   "execution_count": 176,
   "id": "9008fc18",
   "metadata": {},
   "outputs": [],
   "source": [
    "# y_train = to_categorical(y_train)\n",
    "# y_test = to_categorical(y_test)"
   ]
  },
  {
   "cell_type": "code",
   "execution_count": 177,
   "id": "a152c1ce",
   "metadata": {},
   "outputs": [],
   "source": [
    "cnn_model = Sequential()\n",
    "cnn_model.add(Conv2D(32, (3, 3), activation='relu', input_shape=(28, 28, 1)))\n",
    "cnn_model.add(MaxPooling2D((2, 2)))  \n",
    "cnn_model.add(Flatten())\n",
    "cnn_model.add(Dense(10, activation='softmax'))"
   ]
  },
  {
   "cell_type": "code",
   "execution_count": 178,
   "id": "44b4306f",
   "metadata": {},
   "outputs": [],
   "source": [
    "cnn_model.compile(optimizer='adam', loss='sparse_categorical_crossentropy', metrics=['accuracy'])"
   ]
  },
  {
   "cell_type": "code",
   "execution_count": 179,
   "id": "2fa82eff",
   "metadata": {},
   "outputs": [
    {
     "name": "stdout",
     "output_type": "stream",
     "text": [
      "Epoch 1/25\n",
      "3/3 [==============================] - 2s 225ms/step - loss: 2.2762 - accuracy: 0.1556 - val_loss: 2.1351 - val_accuracy: 0.4500\n",
      "Epoch 2/25\n",
      "3/3 [==============================] - 0s 47ms/step - loss: 2.0475 - accuracy: 0.6222 - val_loss: 1.9474 - val_accuracy: 0.6333\n",
      "Epoch 3/25\n",
      "3/3 [==============================] - 0s 46ms/step - loss: 1.8206 - accuracy: 0.8444 - val_loss: 1.7655 - val_accuracy: 0.6500\n",
      "Epoch 4/25\n",
      "3/3 [==============================] - 0s 50ms/step - loss: 1.6161 - accuracy: 0.8889 - val_loss: 1.5822 - val_accuracy: 0.7167\n",
      "Epoch 5/25\n",
      "3/3 [==============================] - 0s 49ms/step - loss: 1.4023 - accuracy: 0.9000 - val_loss: 1.4065 - val_accuracy: 0.7333\n",
      "Epoch 6/25\n",
      "3/3 [==============================] - 0s 55ms/step - loss: 1.2053 - accuracy: 0.9333 - val_loss: 1.2376 - val_accuracy: 0.7333\n",
      "Epoch 7/25\n",
      "3/3 [==============================] - 0s 52ms/step - loss: 1.0229 - accuracy: 0.9556 - val_loss: 1.0765 - val_accuracy: 0.8000\n",
      "Epoch 8/25\n",
      "3/3 [==============================] - 0s 48ms/step - loss: 0.8621 - accuracy: 0.9556 - val_loss: 0.9336 - val_accuracy: 0.8333\n",
      "Epoch 9/25\n",
      "3/3 [==============================] - 0s 60ms/step - loss: 0.7205 - accuracy: 0.9778 - val_loss: 0.8183 - val_accuracy: 0.8500\n",
      "Epoch 10/25\n",
      "3/3 [==============================] - 0s 63ms/step - loss: 0.6003 - accuracy: 0.9778 - val_loss: 0.7220 - val_accuracy: 0.8667\n",
      "Epoch 11/25\n",
      "3/3 [==============================] - 0s 68ms/step - loss: 0.4962 - accuracy: 0.9889 - val_loss: 0.6425 - val_accuracy: 0.8500\n",
      "Epoch 12/25\n",
      "3/3 [==============================] - 0s 62ms/step - loss: 0.4151 - accuracy: 1.0000 - val_loss: 0.5834 - val_accuracy: 0.8500\n",
      "Epoch 13/25\n",
      "3/3 [==============================] - 0s 57ms/step - loss: 0.3426 - accuracy: 1.0000 - val_loss: 0.5437 - val_accuracy: 0.8500\n",
      "Epoch 14/25\n",
      "3/3 [==============================] - 0s 57ms/step - loss: 0.2839 - accuracy: 1.0000 - val_loss: 0.5158 - val_accuracy: 0.8667\n",
      "Epoch 15/25\n",
      "3/3 [==============================] - 0s 61ms/step - loss: 0.2395 - accuracy: 0.9889 - val_loss: 0.4975 - val_accuracy: 0.8667\n",
      "Epoch 16/25\n",
      "3/3 [==============================] - 0s 61ms/step - loss: 0.2067 - accuracy: 0.9889 - val_loss: 0.4832 - val_accuracy: 0.8667\n",
      "Epoch 17/25\n",
      "3/3 [==============================] - 0s 64ms/step - loss: 0.1775 - accuracy: 0.9889 - val_loss: 0.4658 - val_accuracy: 0.8667\n",
      "Epoch 18/25\n",
      "3/3 [==============================] - 0s 63ms/step - loss: 0.1532 - accuracy: 0.9889 - val_loss: 0.4526 - val_accuracy: 0.8667\n",
      "Epoch 19/25\n",
      "3/3 [==============================] - 0s 60ms/step - loss: 0.1358 - accuracy: 0.9889 - val_loss: 0.4430 - val_accuracy: 0.8667\n",
      "Epoch 20/25\n",
      "3/3 [==============================] - 0s 61ms/step - loss: 0.1207 - accuracy: 0.9889 - val_loss: 0.4348 - val_accuracy: 0.8667\n",
      "Epoch 21/25\n",
      "3/3 [==============================] - 0s 55ms/step - loss: 0.1078 - accuracy: 1.0000 - val_loss: 0.4295 - val_accuracy: 0.8833\n",
      "Epoch 22/25\n",
      "3/3 [==============================] - 0s 63ms/step - loss: 0.0965 - accuracy: 1.0000 - val_loss: 0.4211 - val_accuracy: 0.8833\n",
      "Epoch 23/25\n",
      "3/3 [==============================] - 0s 57ms/step - loss: 0.0876 - accuracy: 1.0000 - val_loss: 0.4133 - val_accuracy: 0.8833\n",
      "Epoch 24/25\n",
      "3/3 [==============================] - 0s 56ms/step - loss: 0.0799 - accuracy: 1.0000 - val_loss: 0.4075 - val_accuracy: 0.8833\n",
      "Epoch 25/25\n",
      "3/3 [==============================] - 0s 55ms/step - loss: 0.0737 - accuracy: 1.0000 - val_loss: 0.4020 - val_accuracy: 0.8833\n"
     ]
    }
   ],
   "source": [
    "info = cnn_model.fit(X_train,y_train,epochs=25,validation_split=0.4)"
   ]
  },
  {
   "cell_type": "code",
   "execution_count": 180,
   "id": "05dfb395",
   "metadata": {},
   "outputs": [
    {
     "name": "stdout",
     "output_type": "stream",
     "text": [
      "2/2 [==============================] - 0s 7ms/step\n"
     ]
    }
   ],
   "source": [
    "y_prob = cnn_model.predict(X_test)"
   ]
  },
  {
   "cell_type": "code",
   "execution_count": 181,
   "id": "4b08c50f",
   "metadata": {},
   "outputs": [],
   "source": [
    "y_pred = y_prob.argmax(axis=1) "
   ]
  },
  {
   "cell_type": "code",
   "execution_count": 182,
   "id": "ddb4ee97",
   "metadata": {},
   "outputs": [
    {
     "name": "stdout",
     "output_type": "stream",
     "text": [
      "              precision    recall  f1-score   support\n",
      "\n",
      "           0       1.00      1.00      1.00         5\n",
      "           1       1.00      1.00      1.00         5\n",
      "           2       0.67      0.40      0.50         5\n",
      "           3       0.62      1.00      0.77         5\n",
      "           4       0.80      0.80      0.80         5\n",
      "           5       1.00      1.00      1.00         5\n",
      "           6       1.00      0.80      0.89         5\n",
      "           7       1.00      1.00      1.00         5\n",
      "           8       1.00      1.00      1.00         5\n",
      "           9       1.00      1.00      1.00         5\n",
      "\n",
      "    accuracy                           0.90        50\n",
      "   macro avg       0.91      0.90      0.90        50\n",
      "weighted avg       0.91      0.90      0.90        50\n",
      "\n"
     ]
    }
   ],
   "source": [
    "print(classification_report(y_test,y_pred))"
   ]
  },
  {
   "cell_type": "code",
   "execution_count": 183,
   "id": "0322a442",
   "metadata": {},
   "outputs": [
    {
     "data": {
      "text/plain": [
       "<matplotlib.legend.Legend at 0x23930faf7f0>"
      ]
     },
     "execution_count": 183,
     "metadata": {},
     "output_type": "execute_result"
    },
    {
     "data": {
      "image/png": "[encoded data removed]",
      "text/plain": [
       "<Figure size 432x288 with 1 Axes>"
      ]
     },
     "metadata": {
      "needs_background": "light"
     },
     "output_type": "display_data"
    }
   ],
   "source": [
    "plt.plot(info.history['loss'], color='red', label='Train')  \n",
    "plt.plot(info.history['val_loss'], color='blue', label='Validation') \n",
    "plt.title('Loss vs iterarion') \n",
    "plt.xlabel('iter.') \n",
    "plt.legend()"
   ]
  },
  {
   "cell_type": "code",
   "execution_count": 184,
   "id": "87d60279",
   "metadata": {},
   "outputs": [
    {
     "data": {
      "text/plain": [
       "Text(0.5, 1.0, 'Confusion Matrix')"
      ]
     },
     "execution_count": 184,
     "metadata": {},
     "output_type": "execute_result"
    },
    {
     "data": {
      "image/png": "[encoded data removed]",
      "text/plain": [
       "<Figure size 432x288 with 2 Axes>"
      ]
     },
     "metadata": {
      "needs_background": "light"
     },
     "output_type": "display_data"
    }
   ],
   "source": [
    "sns.heatmap(confusion_matrix(y_test, y_pred), annot=True, cmap=\"Blues\", square=True,\n",
    "            xticklabels=np.arange(10), yticklabels=np.arange(10), linewidths=0.5, linecolor='black')\n",
    "plt.xlabel('Predicted Label')\n",
    "plt.ylabel('True Label')\n",
    "plt.title('Confusion Matrix')"
   ]
  },
  {
   "cell_type": "code",
   "execution_count": 188,
   "id": "e90185b7",
   "metadata": {},
   "outputs": [],
   "source": [
    "datagen = ImageDataGenerator(\n",
    "    rotation_range=30,  \n",
    "    horizontal_flip=False,\n",
    "    vertical_flip=True\n",
    "   )"
   ]
  },
  {
   "cell_type": "code",
   "execution_count": 222,
   "id": "29ef00d4",
   "metadata": {},
   "outputs": [],
   "source": [
    "X = X.reshape(X.shape[0], 28, 28, 1)\n",
    "X_augmented = []\n",
    "y_augmented = []\n",
    "\n",
    "for i in range(X.shape[0]):\n",
    "    original_image = X[i]\n",
    "    original_label = y[i]\n",
    "\n",
    "    original_image = original_image.reshape(1, 28, 28, 1)\n",
    "    augmented_images = []\n",
    "\n",
    "    for _ in range(4):  \n",
    "        augmented_image = next(datagen.flow(original_image, batch_size=1))[0]\n",
    "        augmented_images.append(augmented_image)\n",
    "\n",
    "    X_augmented.extend([original_image[0]] + augmented_images)\n",
    "    y_augmented.extend([original_label] * 5)"
   ]
  },
  {
   "cell_type": "code",
   "execution_count": 223,
   "id": "4dee056f",
   "metadata": {},
   "outputs": [],
   "source": [
    "X_augmented = np.array(X_augmented) \n",
    "y_augmented = np.array(y_augmented)"
   ]
  },
  {
   "cell_type": "code",
   "execution_count": 226,
   "id": "d387fc0c",
   "metadata": {},
   "outputs": [
    {
     "data": {
      "text/plain": [
       "6"
      ]
     },
     "execution_count": 226,
     "metadata": {},
     "output_type": "execute_result"
    },
    {
     "data": {
      "image/png": "[encoded data removed]",
      "text/plain": [
       "<Figure size 432x288 with 1 Axes>"
      ]
     },
     "metadata": {
      "needs_background": "light"
     },
     "output_type": "display_data"
    }
   ],
   "source": [
    "plt.imshow(X_augmented[666], cmap='gray') \n",
    "y_augmented[666]"
   ]
  },
  {
   "cell_type": "code",
   "execution_count": 230,
   "id": "48b4bbf3",
   "metadata": {},
   "outputs": [],
   "source": [
    "X_augmented = X_augmented.reshape(X_augmented.shape[0], 28, 28)"
   ]
  },
  {
   "cell_type": "code",
   "execution_count": 265,
   "id": "e3418ebb",
   "metadata": {},
   "outputs": [],
   "source": [
    "X_train, X_test, y_train, y_test = train_test_split(X_augmented, y_augmented, test_size=0.25, stratify=y_augmented, random_state=42) "
   ]
  },
  {
   "cell_type": "code",
   "execution_count": 306,
   "id": "91f21a2c",
   "metadata": {},
   "outputs": [],
   "source": [
    "ann_model = Sequential()\n",
    "\n",
    "ann_model.add(Flatten(input_shape=(28,28))) \n",
    "ann_model.add(Dense(128,activation=\"relu\")) \n",
    "ann_model.add(Dense(256,activation=\"relu\")) \n",
    "ann_model.add(Dense(32,activation=\"relu\"))\n",
    "ann_model.add(Dense(10,activation=\"softmax\"))  "
   ]
  },
  {
   "cell_type": "code",
   "execution_count": 307,
   "id": "313f17aa",
   "metadata": {},
   "outputs": [],
   "source": [
    "ann_model.compile(optimizer='adam', loss='sparse_categorical_crossentropy', metrics=['accuracy'])"
   ]
  },
  {
   "cell_type": "code",
   "execution_count": 308,
   "id": "2e83a69a",
   "metadata": {},
   "outputs": [
    {
     "name": "stdout",
     "output_type": "stream",
     "text": [
      "Epoch 1/15\n",
      "15/15 [==============================] - 2s 41ms/step - loss: 2.1430 - accuracy: 0.2533 - val_loss: 1.9082 - val_accuracy: 0.3033\n",
      "Epoch 2/15\n",
      "15/15 [==============================] - 0s 14ms/step - loss: 1.5754 - accuracy: 0.4800 - val_loss: 1.4134 - val_accuracy: 0.5533\n",
      "Epoch 3/15\n",
      "15/15 [==============================] - 0s 12ms/step - loss: 1.0124 - accuracy: 0.7289 - val_loss: 1.1316 - val_accuracy: 0.5800\n",
      "Epoch 4/15\n",
      "15/15 [==============================] - 0s 12ms/step - loss: 0.6707 - accuracy: 0.8156 - val_loss: 0.9204 - val_accuracy: 0.6367\n",
      "Epoch 5/15\n",
      "15/15 [==============================] - 0s 12ms/step - loss: 0.5068 - accuracy: 0.8667 - val_loss: 0.8338 - val_accuracy: 0.6933\n",
      "Epoch 6/15\n",
      "15/15 [==============================] - 0s 12ms/step - loss: 0.3749 - accuracy: 0.9200 - val_loss: 0.8052 - val_accuracy: 0.7067\n",
      "Epoch 7/15\n",
      "15/15 [==============================] - 0s 12ms/step - loss: 0.2699 - accuracy: 0.9333 - val_loss: 0.7288 - val_accuracy: 0.7467\n",
      "Epoch 8/15\n",
      "15/15 [==============================] - 0s 16ms/step - loss: 0.1725 - accuracy: 0.9756 - val_loss: 0.7247 - val_accuracy: 0.7333\n",
      "Epoch 9/15\n",
      "15/15 [==============================] - 0s 17ms/step - loss: 0.1251 - accuracy: 0.9844 - val_loss: 0.7075 - val_accuracy: 0.7467\n",
      "Epoch 10/15\n",
      "15/15 [==============================] - 0s 17ms/step - loss: 0.0956 - accuracy: 0.9889 - val_loss: 0.7033 - val_accuracy: 0.7667\n",
      "Epoch 11/15\n",
      "15/15 [==============================] - 0s 16ms/step - loss: 0.0798 - accuracy: 0.9933 - val_loss: 0.7464 - val_accuracy: 0.7467\n",
      "Epoch 12/15\n",
      "15/15 [==============================] - 0s 16ms/step - loss: 0.0584 - accuracy: 0.9956 - val_loss: 0.7469 - val_accuracy: 0.7600\n",
      "Epoch 13/15\n",
      "15/15 [==============================] - 0s 16ms/step - loss: 0.0364 - accuracy: 1.0000 - val_loss: 0.7532 - val_accuracy: 0.7467\n",
      "Epoch 14/15\n",
      "15/15 [==============================] - 0s 16ms/step - loss: 0.0265 - accuracy: 1.0000 - val_loss: 0.7290 - val_accuracy: 0.7767\n",
      "Epoch 15/15\n",
      "15/15 [==============================] - 0s 17ms/step - loss: 0.0206 - accuracy: 1.0000 - val_loss: 0.7786 - val_accuracy: 0.7733\n"
     ]
    }
   ],
   "source": [
    "info = ann_model.fit(X_train,y_train,epochs=15,validation_split=0.4)"
   ]
  },
  {
   "cell_type": "code",
   "execution_count": 309,
   "id": "b73ce565",
   "metadata": {},
   "outputs": [
    {
     "name": "stdout",
     "output_type": "stream",
     "text": [
      "8/8 [==============================] - 0s 5ms/step\n"
     ]
    }
   ],
   "source": [
    "y_prob = ann_model.predict(X_test)"
   ]
  },
  {
   "cell_type": "code",
   "execution_count": 310,
   "id": "65c8aa6f",
   "metadata": {},
   "outputs": [],
   "source": [
    "y_pred = y_prob.argmax(axis=1) "
   ]
  },
  {
   "cell_type": "code",
   "execution_count": 311,
   "id": "3533df16",
   "metadata": {},
   "outputs": [
    {
     "name": "stdout",
     "output_type": "stream",
     "text": [
      "              precision    recall  f1-score   support\n",
      "\n",
      "           0       0.96      0.96      0.96        25\n",
      "           1       0.80      0.96      0.87        25\n",
      "           2       0.73      0.64      0.68        25\n",
      "           3       0.78      0.56      0.65        25\n",
      "           4       0.74      0.92      0.82        25\n",
      "           5       0.91      0.84      0.87        25\n",
      "           6       0.77      0.68      0.72        25\n",
      "           7       0.81      0.88      0.85        25\n",
      "           8       0.75      0.84      0.79        25\n",
      "           9       0.67      0.64      0.65        25\n",
      "\n",
      "    accuracy                           0.79       250\n",
      "   macro avg       0.79      0.79      0.79       250\n",
      "weighted avg       0.79      0.79      0.79       250\n",
      "\n"
     ]
    }
   ],
   "source": [
    "from sklearn.metrics import classification_report\n",
    "print(classification_report(y_test,y_pred))"
   ]
  },
  {
   "cell_type": "code",
   "execution_count": 312,
   "id": "188cdba0",
   "metadata": {},
   "outputs": [
    {
     "data": {
      "text/plain": [
       "<matplotlib.legend.Legend at 0x2393edb6b50>"
      ]
     },
     "execution_count": 312,
     "metadata": {},
     "output_type": "execute_result"
    },
    {
     "data": {
      "image/png": "[encoded data removed]",
      "text/plain": [
       "<Figure size 432x288 with 1 Axes>"
      ]
     },
     "metadata": {
      "needs_background": "light"
     },
     "output_type": "display_data"
    }
   ],
   "source": [
    "plt.plot(info.history['loss'], color='red', label='Train')  \n",
    "plt.plot(info.history['val_loss'], color='blue', label='Validation') \n",
    "plt.title('Loss vs iterarion') \n",
    "plt.xlabel('iter.') \n",
    "plt.legend()"
   ]
  },
  {
   "cell_type": "code",
   "execution_count": 313,
   "id": "65c43559",
   "metadata": {},
   "outputs": [],
   "source": [
    "cnn_model = Sequential()\n",
    "cnn_model.add(Conv2D(32, (3, 3), activation='relu', input_shape=(28, 28, 1)))\n",
    "cnn_model.add(MaxPooling2D((2, 2)))   \n",
    "cnn_model.add(Conv2D(64, (3, 3), activation='relu', input_shape=(28, 28, 1)))\n",
    "cnn_model.add(MaxPooling2D((2, 2)))  \n",
    "cnn_model.add(Flatten())\n",
    "cnn_model.add(Dense(10, activation='softmax'))"
   ]
  },
  {
   "cell_type": "code",
   "execution_count": 316,
   "id": "112911db",
   "metadata": {},
   "outputs": [],
   "source": [
    "cnn_model.compile(optimizer='adam', loss='sparse_categorical_crossentropy', metrics=['accuracy'])"
   ]
  },
  {
   "cell_type": "code",
   "execution_count": 317,
   "id": "0b23de74",
   "metadata": {},
   "outputs": [
    {
     "name": "stdout",
     "output_type": "stream",
     "text": [
      "Epoch 1/15\n",
      "15/15 [==============================] - 2s 48ms/step - loss: 2.1662 - accuracy: 0.2778 - val_loss: 2.0186 - val_accuracy: 0.2067\n",
      "Epoch 2/15\n",
      "15/15 [==============================] - 0s 20ms/step - loss: 1.6993 - accuracy: 0.4222 - val_loss: 1.4538 - val_accuracy: 0.5733\n",
      "Epoch 3/15\n",
      "15/15 [==============================] - 0s 22ms/step - loss: 1.1488 - accuracy: 0.6511 - val_loss: 1.0900 - val_accuracy: 0.6433\n",
      "Epoch 4/15\n",
      "15/15 [==============================] - 0s 19ms/step - loss: 0.8284 - accuracy: 0.7356 - val_loss: 0.8951 - val_accuracy: 0.6967\n",
      "Epoch 5/15\n",
      "15/15 [==============================] - 0s 20ms/step - loss: 0.6573 - accuracy: 0.7844 - val_loss: 0.8847 - val_accuracy: 0.6733\n",
      "Epoch 6/15\n",
      "15/15 [==============================] - 0s 20ms/step - loss: 0.5594 - accuracy: 0.7844 - val_loss: 0.8063 - val_accuracy: 0.6900\n",
      "Epoch 7/15\n",
      "15/15 [==============================] - 0s 28ms/step - loss: 0.4608 - accuracy: 0.8622 - val_loss: 0.6961 - val_accuracy: 0.7400\n",
      "Epoch 8/15\n",
      "15/15 [==============================] - 0s 29ms/step - loss: 0.3772 - accuracy: 0.8644 - val_loss: 0.6642 - val_accuracy: 0.7833\n",
      "Epoch 9/15\n",
      "15/15 [==============================] - 0s 27ms/step - loss: 0.3639 - accuracy: 0.8556 - val_loss: 0.6243 - val_accuracy: 0.7800\n",
      "Epoch 10/15\n",
      "15/15 [==============================] - 0s 26ms/step - loss: 0.3723 - accuracy: 0.8689 - val_loss: 0.8115 - val_accuracy: 0.7500\n",
      "Epoch 11/15\n",
      "15/15 [==============================] - 0s 29ms/step - loss: 0.3720 - accuracy: 0.8778 - val_loss: 0.7074 - val_accuracy: 0.7567\n",
      "Epoch 12/15\n",
      "15/15 [==============================] - 0s 27ms/step - loss: 0.3084 - accuracy: 0.8978 - val_loss: 0.5857 - val_accuracy: 0.7967\n",
      "Epoch 13/15\n",
      "15/15 [==============================] - 0s 26ms/step - loss: 0.2238 - accuracy: 0.9400 - val_loss: 0.5028 - val_accuracy: 0.8500\n",
      "Epoch 14/15\n",
      "15/15 [==============================] - 0s 27ms/step - loss: 0.2131 - accuracy: 0.9333 - val_loss: 0.5989 - val_accuracy: 0.7900\n",
      "Epoch 15/15\n",
      "15/15 [==============================] - 0s 27ms/step - loss: 0.1589 - accuracy: 0.9511 - val_loss: 0.5182 - val_accuracy: 0.8400\n"
     ]
    }
   ],
   "source": [
    "info = cnn_model.fit(X_train,y_train,epochs=15,validation_split=0.4)"
   ]
  },
  {
   "cell_type": "code",
   "execution_count": 318,
   "id": "88731a29",
   "metadata": {},
   "outputs": [
    {
     "name": "stdout",
     "output_type": "stream",
     "text": [
      "8/8 [==============================] - 0s 4ms/step\n"
     ]
    }
   ],
   "source": [
    "y_prob = ann_model.predict(X_test)"
   ]
  },
  {
   "cell_type": "code",
   "execution_count": null,
   "id": "56477e9b",
   "metadata": {},
   "outputs": [],
   "source": []
  }
 ],
 "metadata": {
  "kernelspec": {
   "display_name": "Python 3 (ipykernel)",
   "language": "python",
   "name": "python3"
  },
  "language_info": {
   "codemirror_mode": {
    "name": "ipython",
    "version": 3
   },
   "file_extension": ".py",
   "mimetype": "text/x-python",
   "name": "python",
   "nbconvert_exporter": "python",
   "pygments_lexer": "ipython3",
   "version": "3.9.13"
  }
 },
 "nbformat": 4,
 "nbformat_minor": 5
}
