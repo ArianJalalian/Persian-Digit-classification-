{
 "cells": [
  {
   "cell_type": "code",
   "execution_count": 2,
   "id": "68855117",
   "metadata": {},
   "outputs": [],
   "source": [
    "import numpy as np \n",
    "\n",
    "import tensorflow\n",
    "from tensorflow import keras\n",
    "from tensorflow.keras import Sequential\n",
    "from tensorflow.keras.layers import Dense, Flatten, Conv2D, MaxPool2D\n",
    "from tensorflow.keras.preprocessing.image import ImageDataGenerator\n",
    "from sklearn.model_selection import train_test_split   \n",
    "from sklearn.metrics import classification_report, confusion_matrix \n",
    "\n",
    "import matplotlib.pyplot as plt \n",
    "import seaborn as sns\n",
    "\n",
    "import cv2   \n",
    "\n",
    "from utils.functions import Functions"
   ]
  },
  {
   "cell_type": "code",
   "execution_count": 3,
   "id": "6e05cf77",
   "metadata": {},
   "outputs": [],
   "source": [
    "%matplotlib inline"
   ]
  },
  {
   "cell_type": "code",
   "execution_count": 4,
   "id": "b1b3f167",
   "metadata": {},
   "outputs": [],
   "source": [
    "func = Functions() "
   ]
  },
  {
   "cell_type": "code",
   "execution_count": 5,
   "id": "7c04d91c",
   "metadata": {},
   "outputs": [],
   "source": [
    "images_path = './images'\n",
    "sample_image = cv2.imread(f'{images_path}/6--2.jpg') \n",
    "sample_image = cv2.resize(sample_image, (28, 28)) "
   ]
  },
  {
   "cell_type": "code",
   "execution_count": 6,
   "id": "afd5c743",
   "metadata": {},
   "outputs": [
    {
     "data": {
      "text/plain": [
       "<matplotlib.image.AxesImage at 0x1fbc9cbbb20>"
      ]
     },
     "execution_count": 6,
     "metadata": {},
     "output_type": "execute_result"
    },
    {
     "data": {
      "image/png": "[encoded data removed]",
      "text/plain": [
       "<Figure size 432x288 with 1 Axes>"
      ]
     },
     "metadata": {
      "needs_background": "light"
     },
     "output_type": "display_data"
    }
   ],
   "source": [
    "plt.imshow(sample_image)"
   ]
  },
  {
   "cell_type": "code",
   "execution_count": 7,
   "id": "1f220d87",
   "metadata": {},
   "outputs": [],
   "source": [
    "X = [] \n",
    "y = []"
   ]
  },
  {
   "cell_type": "code",
   "execution_count": 8,
   "id": "ef602fc2",
   "metadata": {},
   "outputs": [],
   "source": [
    "for i in range(10):\n",
    "    for j in range(20):\n",
    "        image = cv2.imread(f'{images_path}/{i}--{j+1}.jpg') \n",
    "        image = func.conv_binary(image).astype(float) / 255 \n",
    "        X.append(image)\n",
    "        y.append(i) "
   ]
  },
  {
   "cell_type": "code",
   "execution_count": 356,
   "id": "00e20a0b",
   "metadata": {},
   "outputs": [
    {
     "data": {
      "text/plain": [
       "Text(0.5, 1.0, 'Label = 6')"
      ]
     },
     "execution_count": 356,
     "metadata": {},
     "output_type": "execute_result"
    },
    {
     "data": {
      "image/png": "[encoded data removed]",
      "text/plain": [
       "<Figure size 432x288 with 1 Axes>"
      ]
     },
     "metadata": {
      "needs_background": "light"
     },
     "output_type": "display_data"
    }
   ],
   "source": [
    "plt.imshow(X[122], cmap='gray')  \n",
    "plt.title(f'Label = {y[122]}')"
   ]
  },
  {
   "cell_type": "code",
   "execution_count": 10,
   "id": "8f2b1aba",
   "metadata": {},
   "outputs": [],
   "source": [
    "X = np.array(X) \n",
    "y = np.array(y)"
   ]
  },
  {
   "cell_type": "code",
   "execution_count": 11,
   "id": "e72b8200",
   "metadata": {},
   "outputs": [],
   "source": [
    "X_train, X_temp, y_train, y_temp = train_test_split(X, y, test_size=0.25, stratify=y, random_state=42) \n",
    "X_test, X_val, y_test, y_val = train_test_split(X_temp, y_temp, test_size=0.4, stratify=y_temp, random_state=42)"
   ]
  },
  {
   "cell_type": "code",
   "execution_count": 12,
   "id": "7f46737b",
   "metadata": {},
   "outputs": [
    {
     "name": "stdout",
     "output_type": "stream",
     "text": [
      "shape of training set : (150, 28, 28)\n",
      "shape of test set : (30, 28, 28)\n",
      "shape of validation set : (20, 28, 28)\n"
     ]
    }
   ],
   "source": [
    "print(f'shape of training set : {X_train.shape}')\n",
    "print(f'shape of test set : {X_test.shape}')\n",
    "print(f'shape of validation set : {X_val.shape}') "
   ]
  },
  {
   "cell_type": "markdown",
   "id": "a74cbce3",
   "metadata": {},
   "source": [
    "# First model : ANN"
   ]
  },
  {
   "cell_type": "code",
   "execution_count": 20,
   "id": "6d6aa5ed",
   "metadata": {},
   "outputs": [],
   "source": [
    "ann_model_v1 = Sequential()\n",
    "ann_model_v1.add(Flatten(input_shape=(28,28))) \n",
    "ann_model_v1.add(Dense(128,activation=\"relu\"))\n",
    "ann_model_v1.add(Dense(10,activation=\"softmax\"))  "
   ]
  },
  {
   "cell_type": "code",
   "execution_count": 21,
   "id": "c84d9d4a",
   "metadata": {},
   "outputs": [
    {
     "name": "stdout",
     "output_type": "stream",
     "text": [
      "Model: \"sequential_2\"\n",
      "_________________________________________________________________\n",
      " Layer (type)                Output Shape              Param #   \n",
      "=================================================================\n",
      " flatten_2 (Flatten)         (None, 784)               0         \n",
      "                                                                 \n",
      " dense_4 (Dense)             (None, 128)               100480    \n",
      "                                                                 \n",
      " dense_5 (Dense)             (None, 10)                1290      \n",
      "                                                                 \n",
      "=================================================================\n",
      "Total params: 101770 (397.54 KB)\n",
      "Trainable params: 101770 (397.54 KB)\n",
      "Non-trainable params: 0 (0.00 Byte)\n",
      "_________________________________________________________________\n"
     ]
    }
   ],
   "source": [
    "ann_model_v1.summary()"
   ]
  },
  {
   "cell_type": "code",
   "execution_count": 22,
   "id": "c8e26bdb",
   "metadata": {},
   "outputs": [],
   "source": [
    "ann_model_v1.compile(loss=\"sparse_categorical_crossentropy\",optimizer=\"Adam\",metrics=[\"accuracy\"])"
   ]
  },
  {
   "cell_type": "code",
   "execution_count": 23,
   "id": "f640590e",
   "metadata": {},
   "outputs": [
    {
     "name": "stdout",
     "output_type": "stream",
     "text": [
      "Epoch 1/25\n",
      "5/5 [==============================] - 1s 38ms/step - loss: 2.1952 - accuracy: 0.2133 - val_loss: 1.8587 - val_accuracy: 0.4500\n",
      "Epoch 2/25\n",
      "5/5 [==============================] - 0s 11ms/step - loss: 1.6669 - accuracy: 0.6333 - val_loss: 1.4885 - val_accuracy: 0.7000\n",
      "Epoch 3/25\n",
      "5/5 [==============================] - 0s 9ms/step - loss: 1.2854 - accuracy: 0.8533 - val_loss: 1.2009 - val_accuracy: 0.7000\n",
      "Epoch 4/25\n",
      "5/5 [==============================] - 0s 9ms/step - loss: 0.9928 - accuracy: 0.9267 - val_loss: 0.9786 - val_accuracy: 0.8000\n",
      "Epoch 5/25\n",
      "5/5 [==============================] - 0s 9ms/step - loss: 0.7696 - accuracy: 0.9400 - val_loss: 0.8291 - val_accuracy: 0.8000\n",
      "Epoch 6/25\n",
      "5/5 [==============================] - 0s 9ms/step - loss: 0.6129 - accuracy: 0.9400 - val_loss: 0.7252 - val_accuracy: 0.7500\n",
      "Epoch 7/25\n",
      "5/5 [==============================] - 0s 9ms/step - loss: 0.4956 - accuracy: 0.9533 - val_loss: 0.6515 - val_accuracy: 0.7500\n",
      "Epoch 8/25\n",
      "5/5 [==============================] - 0s 10ms/step - loss: 0.4093 - accuracy: 0.9600 - val_loss: 0.5989 - val_accuracy: 0.7500\n",
      "Epoch 9/25\n",
      "5/5 [==============================] - 0s 9ms/step - loss: 0.3413 - accuracy: 0.9667 - val_loss: 0.5594 - val_accuracy: 0.7500\n",
      "Epoch 10/25\n",
      "5/5 [==============================] - 0s 9ms/step - loss: 0.2871 - accuracy: 0.9733 - val_loss: 0.5331 - val_accuracy: 0.7500\n",
      "Epoch 11/25\n",
      "5/5 [==============================] - 0s 10ms/step - loss: 0.2440 - accuracy: 0.9867 - val_loss: 0.5142 - val_accuracy: 0.7500\n",
      "Epoch 12/25\n",
      "5/5 [==============================] - 0s 9ms/step - loss: 0.2105 - accuracy: 0.9933 - val_loss: 0.5007 - val_accuracy: 0.8000\n",
      "Epoch 13/25\n",
      "5/5 [==============================] - 0s 10ms/step - loss: 0.1814 - accuracy: 1.0000 - val_loss: 0.4944 - val_accuracy: 0.8000\n",
      "Epoch 14/25\n",
      "5/5 [==============================] - 0s 9ms/step - loss: 0.1570 - accuracy: 1.0000 - val_loss: 0.4867 - val_accuracy: 0.8000\n",
      "Epoch 15/25\n",
      "5/5 [==============================] - 0s 11ms/step - loss: 0.1374 - accuracy: 1.0000 - val_loss: 0.4819 - val_accuracy: 0.8000\n",
      "Epoch 16/25\n",
      "5/5 [==============================] - 0s 12ms/step - loss: 0.1208 - accuracy: 1.0000 - val_loss: 0.4795 - val_accuracy: 0.8000\n",
      "Epoch 17/25\n",
      "5/5 [==============================] - 0s 9ms/step - loss: 0.1064 - accuracy: 1.0000 - val_loss: 0.4775 - val_accuracy: 0.8000\n",
      "Epoch 18/25\n",
      "5/5 [==============================] - 0s 9ms/step - loss: 0.0941 - accuracy: 1.0000 - val_loss: 0.4779 - val_accuracy: 0.8000\n",
      "Epoch 19/25\n",
      "5/5 [==============================] - 0s 9ms/step - loss: 0.0837 - accuracy: 1.0000 - val_loss: 0.4782 - val_accuracy: 0.8000\n",
      "Epoch 20/25\n",
      "5/5 [==============================] - 0s 9ms/step - loss: 0.0748 - accuracy: 1.0000 - val_loss: 0.4760 - val_accuracy: 0.8000\n",
      "Epoch 21/25\n",
      "5/5 [==============================] - 0s 11ms/step - loss: 0.0681 - accuracy: 1.0000 - val_loss: 0.4794 - val_accuracy: 0.8000\n",
      "Epoch 22/25\n",
      "5/5 [==============================] - 0s 10ms/step - loss: 0.0608 - accuracy: 1.0000 - val_loss: 0.4799 - val_accuracy: 0.8000\n",
      "Epoch 23/25\n",
      "5/5 [==============================] - 0s 9ms/step - loss: 0.0552 - accuracy: 1.0000 - val_loss: 0.4817 - val_accuracy: 0.8000\n",
      "Epoch 24/25\n",
      "5/5 [==============================] - 0s 9ms/step - loss: 0.0505 - accuracy: 1.0000 - val_loss: 0.4839 - val_accuracy: 0.8000\n",
      "Epoch 25/25\n",
      "5/5 [==============================] - 0s 9ms/step - loss: 0.0461 - accuracy: 1.0000 - val_loss: 0.4861 - val_accuracy: 0.8000\n"
     ]
    }
   ],
   "source": [
    "info = ann_model_v1.fit(X_train,y_train,epochs=25,validation_data=(X_val, y_val))"
   ]
  },
  {
   "cell_type": "code",
   "execution_count": 24,
   "id": "15ec48a5",
   "metadata": {},
   "outputs": [
    {
     "name": "stdout",
     "output_type": "stream",
     "text": [
      "1/1 [==============================] - 0s 74ms/step\n"
     ]
    }
   ],
   "source": [
    "prob_pred = ann_model_v1.predict(X_test)"
   ]
  },
  {
   "cell_type": "code",
   "execution_count": 25,
   "id": "8730bf9f",
   "metadata": {},
   "outputs": [],
   "source": [
    "pred = prob_pred.argmax(axis=1) "
   ]
  },
  {
   "cell_type": "code",
   "execution_count": 26,
   "id": "4258283f",
   "metadata": {},
   "outputs": [
    {
     "name": "stdout",
     "output_type": "stream",
     "text": [
      "              precision    recall  f1-score   support\n",
      "\n",
      "           0       1.00      1.00      1.00         3\n",
      "           1       0.75      1.00      0.86         3\n",
      "           2       0.50      0.67      0.57         3\n",
      "           3       1.00      1.00      1.00         3\n",
      "           4       1.00      0.67      0.80         3\n",
      "           5       1.00      1.00      1.00         3\n",
      "           6       1.00      0.67      0.80         3\n",
      "           7       1.00      1.00      1.00         3\n",
      "           8       1.00      1.00      1.00         3\n",
      "           9       1.00      1.00      1.00         3\n",
      "\n",
      "    accuracy                           0.90        30\n",
      "   macro avg       0.93      0.90      0.90        30\n",
      "weighted avg       0.93      0.90      0.90        30\n",
      "\n"
     ]
    }
   ],
   "source": [
    "print(classification_report(y_test,pred))"
   ]
  },
  {
   "cell_type": "code",
   "execution_count": 27,
   "id": "2f100e24",
   "metadata": {},
   "outputs": [
    {
     "data": {
      "image/png": "[encoded data removed]",
      "text/plain": [
       "<Figure size 432x288 with 2 Axes>"
      ]
     },
     "metadata": {
      "needs_background": "light"
     },
     "output_type": "display_data"
    }
   ],
   "source": [
    "func.conf_plot(confusion_matrix(y_test, pred))"
   ]
  },
  {
   "cell_type": "code",
   "execution_count": 28,
   "id": "9be2704e",
   "metadata": {},
   "outputs": [
    {
     "data": {
      "text/plain": [
       "Text(0.5, 1.0, 'predicted : 4')"
      ]
     },
     "execution_count": 28,
     "metadata": {},
     "output_type": "execute_result"
    },
    {
     "data": {
      "image/png": "[encoded data removed]",
      "text/plain": [
       "<Figure size 432x288 with 1 Axes>"
      ]
     },
     "metadata": {
      "needs_background": "light"
     },
     "output_type": "display_data"
    }
   ],
   "source": [
    "plt.imshow(X_test[13], cmap='gray') \n",
    "plt.title(f'predicted : {pred[13]}')"
   ]
  },
  {
   "cell_type": "code",
   "execution_count": 29,
   "id": "695668a7",
   "metadata": {},
   "outputs": [
    {
     "data": {
      "image/png": "[encoded data removed]",
      "text/plain": [
       "<Figure size 432x288 with 1 Axes>"
      ]
     },
     "metadata": {
      "needs_background": "light"
     },
     "output_type": "display_data"
    }
   ],
   "source": [
    "func.loss_plot(info.history)"
   ]
  },
  {
   "cell_type": "markdown",
   "id": "4dd2ecae",
   "metadata": {},
   "source": [
    "# Second model : CNN"
   ]
  },
  {
   "cell_type": "code",
   "execution_count": 350,
   "id": "cde35d7a",
   "metadata": {},
   "outputs": [],
   "source": [
    "cnn_model_v1 = Sequential() \n",
    "cnn_model_v1.add(Conv2D(32, (3, 3), activation='relu', input_shape=(28, 28, 1)))\n",
    "cnn_model_v1.add(MaxPool2D((2, 2)))\n",
    "cnn_model_v1.add(Conv2D(64, (3, 3), activation='relu'))\n",
    "cnn_model_v1.add(MaxPool2D((2, 2))) \n",
    "cnn_model_v1.add(Conv2D(64, (3, 3), activation='relu'))\n",
    "cnn_model_v1.add(MaxPool2D((2, 2)))\n",
    "cnn_model_v1.add(Flatten())\n",
    "cnn_model_v1.add(Dense(32, activation='relu'))\n",
    "cnn_model_v1.add(Dense(10, activation='softmax'))"
   ]
  },
  {
   "cell_type": "code",
   "execution_count": 351,
   "id": "62294eb1",
   "metadata": {},
   "outputs": [
    {
     "name": "stdout",
     "output_type": "stream",
     "text": [
      "Model: \"sequential_16\"\n",
      "_________________________________________________________________\n",
      " Layer (type)                Output Shape              Param #   \n",
      "=================================================================\n",
      " conv2d_21 (Conv2D)          (None, 26, 26, 32)        320       \n",
      "                                                                 \n",
      " max_pooling2d_21 (MaxPooli  (None, 13, 13, 32)        0         \n",
      " ng2D)                                                           \n",
      "                                                                 \n",
      " conv2d_22 (Conv2D)          (None, 11, 11, 64)        18496     \n",
      "                                                                 \n",
      " max_pooling2d_22 (MaxPooli  (None, 5, 5, 64)          0         \n",
      " ng2D)                                                           \n",
      "                                                                 \n",
      " conv2d_23 (Conv2D)          (None, 3, 3, 64)          36928     \n",
      "                                                                 \n",
      " max_pooling2d_23 (MaxPooli  (None, 1, 1, 64)          0         \n",
      " ng2D)                                                           \n",
      "                                                                 \n",
      " flatten_16 (Flatten)        (None, 64)                0         \n",
      "                                                                 \n",
      " dense_32 (Dense)            (None, 32)                2080      \n",
      "                                                                 \n",
      " dense_33 (Dense)            (None, 10)                330       \n",
      "                                                                 \n",
      "=================================================================\n",
      "Total params: 58154 (227.16 KB)\n",
      "Trainable params: 58154 (227.16 KB)\n",
      "Non-trainable params: 0 (0.00 Byte)\n",
      "_________________________________________________________________\n"
     ]
    }
   ],
   "source": [
    "cnn_model_v1.summary()"
   ]
  },
  {
   "cell_type": "code",
   "execution_count": 338,
   "id": "4916558c",
   "metadata": {},
   "outputs": [],
   "source": [
    "cnn_model_v1.compile(optimizer='adam', loss='sparse_categorical_crossentropy', metrics=['accuracy'])"
   ]
  },
  {
   "cell_type": "code",
   "execution_count": 339,
   "id": "4db266c0",
   "metadata": {},
   "outputs": [
    {
     "name": "stdout",
     "output_type": "stream",
     "text": [
      "Epoch 1/25\n",
      "5/5 [==============================] - 3s 192ms/step - loss: 2.2735 - accuracy: 0.1000 - val_loss: 2.2195 - val_accuracy: 0.1500\n",
      "Epoch 2/25\n",
      "5/5 [==============================] - 0s 39ms/step - loss: 2.1836 - accuracy: 0.1867 - val_loss: 2.1172 - val_accuracy: 0.3000\n",
      "Epoch 3/25\n",
      "5/5 [==============================] - 0s 45ms/step - loss: 2.0543 - accuracy: 0.4267 - val_loss: 1.9698 - val_accuracy: 0.5000\n",
      "Epoch 4/25\n",
      "5/5 [==============================] - 0s 42ms/step - loss: 1.8584 - accuracy: 0.6067 - val_loss: 1.7260 - val_accuracy: 0.6500\n",
      "Epoch 5/25\n",
      "5/5 [==============================] - 0s 40ms/step - loss: 1.5946 - accuracy: 0.6667 - val_loss: 1.4366 - val_accuracy: 0.7000\n",
      "Epoch 6/25\n",
      "5/5 [==============================] - 0s 44ms/step - loss: 1.2629 - accuracy: 0.7933 - val_loss: 1.1065 - val_accuracy: 0.8000\n",
      "Epoch 7/25\n",
      "5/5 [==============================] - 0s 41ms/step - loss: 0.9120 - accuracy: 0.8000 - val_loss: 0.8051 - val_accuracy: 0.8000\n",
      "Epoch 8/25\n",
      "5/5 [==============================] - 0s 42ms/step - loss: 0.6136 - accuracy: 0.8800 - val_loss: 0.5457 - val_accuracy: 0.8500\n",
      "Epoch 9/25\n",
      "5/5 [==============================] - 0s 37ms/step - loss: 0.3881 - accuracy: 0.9400 - val_loss: 0.4737 - val_accuracy: 0.8000\n",
      "Epoch 10/25\n",
      "5/5 [==============================] - 0s 49ms/step - loss: 0.2626 - accuracy: 0.9267 - val_loss: 0.2831 - val_accuracy: 0.9500\n",
      "Epoch 11/25\n",
      "5/5 [==============================] - 0s 43ms/step - loss: 0.1807 - accuracy: 0.9600 - val_loss: 0.3256 - val_accuracy: 0.8500\n",
      "Epoch 12/25\n",
      "5/5 [==============================] - 0s 50ms/step - loss: 0.1207 - accuracy: 0.9733 - val_loss: 0.2713 - val_accuracy: 0.9000\n",
      "Epoch 13/25\n",
      "5/5 [==============================] - 0s 42ms/step - loss: 0.1144 - accuracy: 0.9733 - val_loss: 0.1909 - val_accuracy: 0.9500\n",
      "Epoch 14/25\n",
      "5/5 [==============================] - 0s 47ms/step - loss: 0.0934 - accuracy: 0.9600 - val_loss: 0.2145 - val_accuracy: 0.9500\n",
      "Epoch 15/25\n",
      "5/5 [==============================] - 0s 42ms/step - loss: 0.1131 - accuracy: 0.9600 - val_loss: 0.1799 - val_accuracy: 0.9500\n",
      "Epoch 16/25\n",
      "5/5 [==============================] - 0s 39ms/step - loss: 0.0885 - accuracy: 0.9600 - val_loss: 0.2128 - val_accuracy: 0.9500\n",
      "Epoch 17/25\n",
      "5/5 [==============================] - 0s 46ms/step - loss: 0.0602 - accuracy: 0.9867 - val_loss: 0.1587 - val_accuracy: 0.9500\n",
      "Epoch 18/25\n",
      "5/5 [==============================] - 0s 43ms/step - loss: 0.0470 - accuracy: 0.9800 - val_loss: 0.2786 - val_accuracy: 0.9000\n",
      "Epoch 19/25\n",
      "5/5 [==============================] - 0s 44ms/step - loss: 0.0404 - accuracy: 0.9867 - val_loss: 0.1519 - val_accuracy: 0.9000\n",
      "Epoch 20/25\n",
      "5/5 [==============================] - 0s 44ms/step - loss: 0.0551 - accuracy: 0.9800 - val_loss: 0.1658 - val_accuracy: 0.9500\n",
      "Epoch 21/25\n",
      "5/5 [==============================] - 0s 48ms/step - loss: 0.0401 - accuracy: 0.9933 - val_loss: 0.2622 - val_accuracy: 0.9000\n",
      "Epoch 22/25\n",
      "5/5 [==============================] - 0s 40ms/step - loss: 0.0282 - accuracy: 1.0000 - val_loss: 0.1835 - val_accuracy: 0.9500\n",
      "Epoch 23/25\n",
      "5/5 [==============================] - 0s 46ms/step - loss: 0.0284 - accuracy: 0.9933 - val_loss: 0.2259 - val_accuracy: 0.8500\n",
      "Epoch 24/25\n",
      "5/5 [==============================] - 0s 43ms/step - loss: 0.0209 - accuracy: 0.9933 - val_loss: 0.1654 - val_accuracy: 0.9500\n",
      "Epoch 25/25\n",
      "5/5 [==============================] - 0s 44ms/step - loss: 0.0122 - accuracy: 1.0000 - val_loss: 0.2187 - val_accuracy: 0.9500\n"
     ]
    }
   ],
   "source": [
    "info = cnn_model_v1.fit(X_train,y_train,epochs=25, validation_data=(X_val, y_val))"
   ]
  },
  {
   "cell_type": "code",
   "execution_count": 340,
   "id": "dd76b982",
   "metadata": {},
   "outputs": [
    {
     "name": "stdout",
     "output_type": "stream",
     "text": [
      "1/1 [==============================] - 0s 284ms/step\n"
     ]
    }
   ],
   "source": [
    "prob_pred = cnn_model_v1.predict(X_test)"
   ]
  },
  {
   "cell_type": "code",
   "execution_count": 341,
   "id": "ecad9c51",
   "metadata": {},
   "outputs": [],
   "source": [
    "pred = prob_pred.argmax(axis=1) "
   ]
  },
  {
   "cell_type": "code",
   "execution_count": 342,
   "id": "a3310650",
   "metadata": {},
   "outputs": [
    {
     "name": "stdout",
     "output_type": "stream",
     "text": [
      "              precision    recall  f1-score   support\n",
      "\n",
      "           0       1.00      1.00      1.00         3\n",
      "           1       1.00      1.00      1.00         3\n",
      "           2       1.00      0.67      0.80         3\n",
      "           3       0.60      1.00      0.75         3\n",
      "           4       1.00      0.67      0.80         3\n",
      "           5       1.00      1.00      1.00         3\n",
      "           6       1.00      1.00      1.00         3\n",
      "           7       1.00      1.00      1.00         3\n",
      "           8       1.00      1.00      1.00         3\n",
      "           9       1.00      1.00      1.00         3\n",
      "\n",
      "    accuracy                           0.93        30\n",
      "   macro avg       0.96      0.93      0.93        30\n",
      "weighted avg       0.96      0.93      0.94        30\n",
      "\n"
     ]
    }
   ],
   "source": [
    "print(classification_report(y_test, pred))"
   ]
  },
  {
   "cell_type": "code",
   "execution_count": 37,
   "id": "3d2f59d8",
   "metadata": {},
   "outputs": [
    {
     "data": {
      "image/png": "[encoded data removed]",
      "text/plain": [
       "<Figure size 432x288 with 1 Axes>"
      ]
     },
     "metadata": {
      "needs_background": "light"
     },
     "output_type": "display_data"
    }
   ],
   "source": [
    "func.loss_plot(info.history)"
   ]
  },
  {
   "cell_type": "code",
   "execution_count": 38,
   "id": "2efdd00b",
   "metadata": {},
   "outputs": [
    {
     "data": {
      "image/png": "[encoded data removed]",
      "text/plain": [
       "<Figure size 432x288 with 2 Axes>"
      ]
     },
     "metadata": {
      "needs_background": "light"
     },
     "output_type": "display_data"
    }
   ],
   "source": [
    "func.conf_plot(confusion_matrix(y_test, pred))"
   ]
  },
  {
   "cell_type": "markdown",
   "id": "af3892af",
   "metadata": {},
   "source": [
    "# Data augmentation"
   ]
  },
  {
   "cell_type": "code",
   "execution_count": 357,
   "id": "efd5efa0",
   "metadata": {},
   "outputs": [],
   "source": [
    "augmenter = ImageDataGenerator(\n",
    "    rotation_range=30,  \n",
    "    horizontal_flip=True,\n",
    "    vertical_flip=False\n",
    "   )"
   ]
  },
  {
   "cell_type": "code",
   "execution_count": 358,
   "id": "c0026678",
   "metadata": {},
   "outputs": [],
   "source": [
    "X = X.reshape(X.shape[0], 28, 28, 1)\n",
    "X_augmented = []\n",
    "y_augmented = []\n",
    "\n",
    "for i in range(X.shape[0]):\n",
    "    original_image = X[i]\n",
    "    original_label = y[i]\n",
    "\n",
    "    original_image = original_image.reshape(1, 28, 28, 1)\n",
    "    augmented_images = []\n",
    "\n",
    "    for _ in range(4):  \n",
    "        augmented_image = next(augmenter.flow(original_image, batch_size=1))[0]\n",
    "        augmented_images.append(augmented_image)\n",
    "\n",
    "    X_augmented.extend([original_image[0]] + augmented_images)\n",
    "    y_augmented.extend([original_label] * 5)"
   ]
  },
  {
   "cell_type": "code",
   "execution_count": 41,
   "id": "1b836117",
   "metadata": {},
   "outputs": [],
   "source": [
    "X_augmented = np.array(X_augmented) \n",
    "y_augmented = np.array(y_augmented)"
   ]
  },
  {
   "cell_type": "code",
   "execution_count": 42,
   "id": "d7596841",
   "metadata": {},
   "outputs": [
    {
     "data": {
      "text/plain": [
       "6"
      ]
     },
     "execution_count": 42,
     "metadata": {},
     "output_type": "execute_result"
    },
    {
     "data": {
      "image/png": "[encoded data removed]",
      "text/plain": [
       "<Figure size 432x288 with 1 Axes>"
      ]
     },
     "metadata": {
      "needs_background": "light"
     },
     "output_type": "display_data"
    }
   ],
   "source": [
    "plt.imshow(X_augmented[666], cmap='gray') \n",
    "y_augmented[666]"
   ]
  },
  {
   "cell_type": "code",
   "execution_count": 43,
   "id": "f5bfcefc",
   "metadata": {},
   "outputs": [],
   "source": [
    "X_augmented = X_augmented.reshape(X_augmented.shape[0], 28, 28)"
   ]
  },
  {
   "cell_type": "code",
   "execution_count": 44,
   "id": "638cac90",
   "metadata": {},
   "outputs": [],
   "source": [
    "X_train_augmented, X_temp, y_train_augmented, y_temp = train_test_split(X_augmented, y_augmented, test_size=0.25, stratify=y_augmented, random_state=42)\n",
    "X_test_augmented, X_val_augmented, y_test_augmented, y_val_augmented = train_test_split(X_temp, y_temp, test_size=0.4, stratify=y_temp, random_state=42)"
   ]
  },
  {
   "cell_type": "code",
   "execution_count": 45,
   "id": "dc1c5818",
   "metadata": {},
   "outputs": [],
   "source": [
    "# ann_model_v2 = Sequential()\n",
    "\n",
    "# ann_model_v2.add(Flatten(input_shape=(28,28))) \n",
    "# ann_model_v2.add(Dense(128,activation=\"relu\")) \n",
    "# # ann_model_v2.add(Dense(256,activation=\"relu\")) \n",
    "# # ann_model_v2.add(Dense(32,activation=\"relu\"))\n",
    "# ann_model_v2.add(Dense(10,activation=\"softmax\"))  "
   ]
  },
  {
   "cell_type": "code",
   "execution_count": 46,
   "id": "efd39bbd",
   "metadata": {},
   "outputs": [],
   "source": [
    "# ann_model_v2.compile(optimizer='adam', loss='sparse_categorical_crossentropy', metrics=['accuracy'])"
   ]
  },
  {
   "cell_type": "markdown",
   "id": "3c3d2ef0",
   "metadata": {},
   "source": [
    "# Testing previous ANN on augmneted data"
   ]
  },
  {
   "cell_type": "code",
   "execution_count": 47,
   "id": "ad5cac80",
   "metadata": {},
   "outputs": [
    {
     "name": "stdout",
     "output_type": "stream",
     "text": [
      "5/5 [==============================] - 0s 2ms/step\n",
      "              precision    recall  f1-score   support\n",
      "\n",
      "           0       0.79      1.00      0.88        15\n",
      "           1       0.92      0.73      0.81        15\n",
      "           2       0.64      0.47      0.54        15\n",
      "           3       0.59      0.67      0.62        15\n",
      "           4       0.57      0.53      0.55        15\n",
      "           5       0.80      0.80      0.80        15\n",
      "           6       0.62      0.67      0.65        15\n",
      "           7       0.83      1.00      0.91        15\n",
      "           8       0.83      0.67      0.74        15\n",
      "           9       0.69      0.73      0.71        15\n",
      "\n",
      "    accuracy                           0.73       150\n",
      "   macro avg       0.73      0.73      0.72       150\n",
      "weighted avg       0.73      0.73      0.72       150\n",
      "\n"
     ]
    }
   ],
   "source": [
    "prob_pred = ann_model_v1.predict(X_test_augmented) \n",
    "pred = prob_pred.argmax(axis=1) \n",
    "print(classification_report(y_test_augmented, pred))"
   ]
  },
  {
   "cell_type": "markdown",
   "id": "0fdd33d4",
   "metadata": {},
   "source": [
    "# Training same ANN on augmented data"
   ]
  },
  {
   "cell_type": "code",
   "execution_count": 48,
   "id": "4e275c07",
   "metadata": {},
   "outputs": [
    {
     "name": "stdout",
     "output_type": "stream",
     "text": [
      "Epoch 1/15\n",
      "24/24 [==============================] - 0s 6ms/step - loss: 1.1294 - accuracy: 0.6787 - val_loss: 0.7878 - val_accuracy: 0.7200\n",
      "Epoch 2/15\n",
      "24/24 [==============================] - 0s 4ms/step - loss: 0.5105 - accuracy: 0.8427 - val_loss: 0.7043 - val_accuracy: 0.7400\n",
      "Epoch 3/15\n",
      "24/24 [==============================] - 0s 3ms/step - loss: 0.3625 - accuracy: 0.9027 - val_loss: 0.6432 - val_accuracy: 0.7600\n",
      "Epoch 4/15\n",
      "24/24 [==============================] - 0s 4ms/step - loss: 0.2755 - accuracy: 0.9293 - val_loss: 0.5766 - val_accuracy: 0.8200\n",
      "Epoch 5/15\n",
      "24/24 [==============================] - 0s 5ms/step - loss: 0.2228 - accuracy: 0.9533 - val_loss: 0.5695 - val_accuracy: 0.7700\n",
      "Epoch 6/15\n",
      "24/24 [==============================] - 0s 5ms/step - loss: 0.1923 - accuracy: 0.9627 - val_loss: 0.5639 - val_accuracy: 0.8100\n",
      "Epoch 7/15\n",
      "24/24 [==============================] - 0s 5ms/step - loss: 0.1573 - accuracy: 0.9773 - val_loss: 0.5477 - val_accuracy: 0.8200\n",
      "Epoch 8/15\n",
      "24/24 [==============================] - 0s 4ms/step - loss: 0.1367 - accuracy: 0.9787 - val_loss: 0.5290 - val_accuracy: 0.8200\n",
      "Epoch 9/15\n",
      "24/24 [==============================] - 0s 4ms/step - loss: 0.1138 - accuracy: 0.9920 - val_loss: 0.5317 - val_accuracy: 0.8400\n",
      "Epoch 10/15\n",
      "24/24 [==============================] - 0s 4ms/step - loss: 0.0968 - accuracy: 0.9933 - val_loss: 0.5287 - val_accuracy: 0.8500\n",
      "Epoch 11/15\n",
      "24/24 [==============================] - 0s 4ms/step - loss: 0.0838 - accuracy: 0.9973 - val_loss: 0.5182 - val_accuracy: 0.8500\n",
      "Epoch 12/15\n",
      "24/24 [==============================] - 0s 4ms/step - loss: 0.0727 - accuracy: 0.9987 - val_loss: 0.5227 - val_accuracy: 0.8200\n",
      "Epoch 13/15\n",
      "24/24 [==============================] - 0s 4ms/step - loss: 0.0633 - accuracy: 0.9987 - val_loss: 0.5185 - val_accuracy: 0.8400\n",
      "Epoch 14/15\n",
      "24/24 [==============================] - 0s 4ms/step - loss: 0.0578 - accuracy: 0.9987 - val_loss: 0.5172 - val_accuracy: 0.8400\n",
      "Epoch 15/15\n",
      "24/24 [==============================] - 0s 4ms/step - loss: 0.0505 - accuracy: 0.9987 - val_loss: 0.5217 - val_accuracy: 0.8600\n"
     ]
    }
   ],
   "source": [
    "info = ann_model_v1.fit(X_train_augmented, y_train_augmented, epochs=15, validation_data=(X_val_augmented, y_val_augmented))"
   ]
  },
  {
   "cell_type": "code",
   "execution_count": 49,
   "id": "658f7cd6",
   "metadata": {},
   "outputs": [
    {
     "name": "stdout",
     "output_type": "stream",
     "text": [
      "5/5 [==============================] - 0s 2ms/step\n"
     ]
    }
   ],
   "source": [
    "prob_pred = ann_model_v1.predict(X_test_augmented)"
   ]
  },
  {
   "cell_type": "code",
   "execution_count": 50,
   "id": "da1de738",
   "metadata": {},
   "outputs": [],
   "source": [
    "pred = prob_pred.argmax(axis=1)"
   ]
  },
  {
   "cell_type": "code",
   "execution_count": 51,
   "id": "23bbdc6b",
   "metadata": {},
   "outputs": [
    {
     "name": "stdout",
     "output_type": "stream",
     "text": [
      "              precision    recall  f1-score   support\n",
      "\n",
      "           0       0.94      1.00      0.97        15\n",
      "           1       1.00      0.93      0.97        15\n",
      "           2       0.68      0.87      0.76        15\n",
      "           3       0.75      0.80      0.77        15\n",
      "           4       1.00      0.73      0.85        15\n",
      "           5       1.00      0.93      0.97        15\n",
      "           6       0.92      0.80      0.86        15\n",
      "           7       1.00      1.00      1.00        15\n",
      "           8       0.94      1.00      0.97        15\n",
      "           9       0.88      0.93      0.90        15\n",
      "\n",
      "    accuracy                           0.90       150\n",
      "   macro avg       0.91      0.90      0.90       150\n",
      "weighted avg       0.91      0.90      0.90       150\n",
      "\n"
     ]
    }
   ],
   "source": [
    "print(classification_report(y_test_augmented, pred))"
   ]
  },
  {
   "cell_type": "code",
   "execution_count": 52,
   "id": "134fdb2b",
   "metadata": {},
   "outputs": [
    {
     "data": {
      "image/png": "[encoded data removed]",
      "text/plain": [
       "<Figure size 432x288 with 1 Axes>"
      ]
     },
     "metadata": {
      "needs_background": "light"
     },
     "output_type": "display_data"
    }
   ],
   "source": [
    "func.loss_plot(info.history)"
   ]
  },
  {
   "cell_type": "code",
   "execution_count": 53,
   "id": "9ce39e05",
   "metadata": {},
   "outputs": [
    {
     "data": {
      "image/png": "[encoded data removed]",
      "text/plain": [
       "<Figure size 432x288 with 2 Axes>"
      ]
     },
     "metadata": {
      "needs_background": "light"
     },
     "output_type": "display_data"
    }
   ],
   "source": [
    "func.conf_plot(confusion_matrix(y_test_augmented, pred))"
   ]
  },
  {
   "cell_type": "markdown",
   "id": "533611d1",
   "metadata": {},
   "source": [
    "# Testing augmented data on previous CNN"
   ]
  },
  {
   "cell_type": "code",
   "execution_count": 54,
   "id": "05dfe3e3",
   "metadata": {},
   "outputs": [
    {
     "name": "stdout",
     "output_type": "stream",
     "text": [
      "5/5 [==============================] - 0s 4ms/step\n",
      "              precision    recall  f1-score   support\n",
      "\n",
      "           0       0.83      1.00      0.91        15\n",
      "           1       0.92      0.80      0.86        15\n",
      "           2       0.86      0.40      0.55        15\n",
      "           3       0.90      0.60      0.72        15\n",
      "           4       0.40      0.40      0.40        15\n",
      "           5       0.76      0.87      0.81        15\n",
      "           6       0.67      0.80      0.73        15\n",
      "           7       0.93      0.93      0.93        15\n",
      "           8       0.75      0.80      0.77        15\n",
      "           9       0.52      0.73      0.61        15\n",
      "\n",
      "    accuracy                           0.73       150\n",
      "   macro avg       0.76      0.73      0.73       150\n",
      "weighted avg       0.76      0.73      0.73       150\n",
      "\n"
     ]
    }
   ],
   "source": [
    "prob_pred = cnn_model_v1.predict(X_test_augmented) \n",
    "pred = prob_pred.argmax(axis=1) \n",
    "print(classification_report(y_test_augmented, pred))"
   ]
  },
  {
   "cell_type": "code",
   "execution_count": 55,
   "id": "9db4a6b1",
   "metadata": {},
   "outputs": [],
   "source": [
    "# cnn_model = Sequential()\n",
    "# cnn_model.add(Conv2D(32, (3, 3), activation='relu', input_shape=(28, 28, 1)))\n",
    "# cnn_model.add(MaxPool2D((2, 2)))   \n",
    "# cnn_model.add(Conv2D(32, (3, 3), activation='relu', input_shape=(28, 28, 1)))\n",
    "# cnn_model.add(MaxPool2D((2, 2)))  \n",
    "# cnn_model.add(Flatten()) \n",
    "# cnn_model.add(Dense(32, activation='relu'))\n",
    "# cnn_model.add(Dense(10, activation='softmax'))"
   ]
  },
  {
   "cell_type": "code",
   "execution_count": 56,
   "id": "6fb42014",
   "metadata": {},
   "outputs": [],
   "source": [
    "# cnn_model.compile(optimizer='adam', loss='sparse_categorical_crossentropy', metrics=['accuracy'])"
   ]
  },
  {
   "cell_type": "markdown",
   "id": "5ef80e43",
   "metadata": {},
   "source": [
    "# Training same CNN on augmented data"
   ]
  },
  {
   "cell_type": "code",
   "execution_count": 57,
   "id": "2fdd009a",
   "metadata": {},
   "outputs": [
    {
     "name": "stdout",
     "output_type": "stream",
     "text": [
      "Epoch 1/25\n",
      "24/24 [==============================] - 0s 11ms/step - loss: 1.4825 - accuracy: 0.6387 - val_loss: 0.8289 - val_accuracy: 0.7100\n",
      "Epoch 2/25\n",
      "24/24 [==============================] - 0s 9ms/step - loss: 0.6796 - accuracy: 0.7827 - val_loss: 0.5365 - val_accuracy: 0.8300\n",
      "Epoch 3/25\n",
      "24/24 [==============================] - 0s 9ms/step - loss: 0.4366 - accuracy: 0.8560 - val_loss: 0.3831 - val_accuracy: 0.8900\n",
      "Epoch 4/25\n",
      "24/24 [==============================] - 0s 10ms/step - loss: 0.3413 - accuracy: 0.8867 - val_loss: 0.3763 - val_accuracy: 0.8800\n",
      "Epoch 5/25\n",
      "24/24 [==============================] - 0s 9ms/step - loss: 0.2775 - accuracy: 0.9160 - val_loss: 0.3394 - val_accuracy: 0.8700\n",
      "Epoch 6/25\n",
      "24/24 [==============================] - 0s 9ms/step - loss: 0.2220 - accuracy: 0.9227 - val_loss: 0.3032 - val_accuracy: 0.8500\n",
      "Epoch 7/25\n",
      "24/24 [==============================] - 0s 9ms/step - loss: 0.1809 - accuracy: 0.9453 - val_loss: 0.2976 - val_accuracy: 0.9000\n",
      "Epoch 8/25\n",
      "24/24 [==============================] - 0s 9ms/step - loss: 0.1806 - accuracy: 0.9427 - val_loss: 0.2355 - val_accuracy: 0.9400\n",
      "Epoch 9/25\n",
      "24/24 [==============================] - 0s 9ms/step - loss: 0.1151 - accuracy: 0.9667 - val_loss: 0.2889 - val_accuracy: 0.8700\n",
      "Epoch 10/25\n",
      "24/24 [==============================] - 0s 9ms/step - loss: 0.1215 - accuracy: 0.9560 - val_loss: 0.2586 - val_accuracy: 0.9000\n",
      "Epoch 11/25\n",
      "24/24 [==============================] - 0s 9ms/step - loss: 0.1122 - accuracy: 0.9693 - val_loss: 0.1839 - val_accuracy: 0.9500\n",
      "Epoch 12/25\n",
      "24/24 [==============================] - 0s 9ms/step - loss: 0.0589 - accuracy: 0.9893 - val_loss: 0.1874 - val_accuracy: 0.9400\n",
      "Epoch 13/25\n",
      "24/24 [==============================] - 0s 9ms/step - loss: 0.0410 - accuracy: 0.9960 - val_loss: 0.1584 - val_accuracy: 0.9400\n",
      "Epoch 14/25\n",
      "24/24 [==============================] - 0s 9ms/step - loss: 0.0410 - accuracy: 0.9933 - val_loss: 0.2013 - val_accuracy: 0.9200\n",
      "Epoch 15/25\n",
      "24/24 [==============================] - 0s 9ms/step - loss: 0.0290 - accuracy: 0.9973 - val_loss: 0.1260 - val_accuracy: 0.9600\n",
      "Epoch 16/25\n",
      "24/24 [==============================] - 0s 9ms/step - loss: 0.0205 - accuracy: 0.9973 - val_loss: 0.1267 - val_accuracy: 0.9500\n",
      "Epoch 17/25\n",
      "24/24 [==============================] - 0s 9ms/step - loss: 0.0262 - accuracy: 0.9947 - val_loss: 0.1755 - val_accuracy: 0.9400\n",
      "Epoch 18/25\n",
      "24/24 [==============================] - 0s 9ms/step - loss: 0.0203 - accuracy: 0.9973 - val_loss: 0.1474 - val_accuracy: 0.9400\n",
      "Epoch 19/25\n",
      "24/24 [==============================] - 0s 9ms/step - loss: 0.0111 - accuracy: 1.0000 - val_loss: 0.1098 - val_accuracy: 0.9600\n",
      "Epoch 20/25\n",
      "24/24 [==============================] - 0s 9ms/step - loss: 0.0098 - accuracy: 1.0000 - val_loss: 0.1088 - val_accuracy: 0.9600\n",
      "Epoch 21/25\n",
      "24/24 [==============================] - 0s 9ms/step - loss: 0.0093 - accuracy: 1.0000 - val_loss: 0.1073 - val_accuracy: 0.9500\n",
      "Epoch 22/25\n",
      "24/24 [==============================] - 0s 11ms/step - loss: 0.0066 - accuracy: 1.0000 - val_loss: 0.1284 - val_accuracy: 0.9500\n",
      "Epoch 23/25\n",
      "24/24 [==============================] - 0s 11ms/step - loss: 0.0058 - accuracy: 1.0000 - val_loss: 0.1006 - val_accuracy: 0.9500\n",
      "Epoch 24/25\n",
      "24/24 [==============================] - 0s 11ms/step - loss: 0.0048 - accuracy: 1.0000 - val_loss: 0.1111 - val_accuracy: 0.9500\n",
      "Epoch 25/25\n",
      "24/24 [==============================] - 0s 11ms/step - loss: 0.0044 - accuracy: 1.0000 - val_loss: 0.1000 - val_accuracy: 0.9500\n"
     ]
    }
   ],
   "source": [
    "info = cnn_model_v1.fit(X_train_augmented, y_train_augmented, epochs=25, validation_data=(X_val_augmented, y_val_augmented))"
   ]
  },
  {
   "cell_type": "code",
   "execution_count": 58,
   "id": "73e22dd6",
   "metadata": {},
   "outputs": [
    {
     "name": "stdout",
     "output_type": "stream",
     "text": [
      "5/5 [==============================] - 0s 4ms/step\n"
     ]
    }
   ],
   "source": [
    "prob_pred = cnn_model_v1.predict(X_test_augmented)"
   ]
  },
  {
   "cell_type": "code",
   "execution_count": 59,
   "id": "2d098a08",
   "metadata": {},
   "outputs": [],
   "source": [
    "pred = prob_pred.argmax(axis=1) "
   ]
  },
  {
   "cell_type": "code",
   "execution_count": 60,
   "id": "02e50f11",
   "metadata": {},
   "outputs": [
    {
     "name": "stdout",
     "output_type": "stream",
     "text": [
      "              precision    recall  f1-score   support\n",
      "\n",
      "           0       1.00      1.00      1.00        15\n",
      "           1       1.00      0.93      0.97        15\n",
      "           2       0.86      0.80      0.83        15\n",
      "           3       0.94      1.00      0.97        15\n",
      "           4       0.93      0.87      0.90        15\n",
      "           5       1.00      1.00      1.00        15\n",
      "           6       0.93      0.93      0.93        15\n",
      "           7       1.00      1.00      1.00        15\n",
      "           8       0.94      1.00      0.97        15\n",
      "           9       0.88      0.93      0.90        15\n",
      "\n",
      "    accuracy                           0.95       150\n",
      "   macro avg       0.95      0.95      0.95       150\n",
      "weighted avg       0.95      0.95      0.95       150\n",
      "\n"
     ]
    }
   ],
   "source": [
    "print(classification_report(y_test_augmented, pred))"
   ]
  },
  {
   "cell_type": "code",
   "execution_count": 61,
   "id": "2b74911d",
   "metadata": {},
   "outputs": [
    {
     "data": {
      "image/png": "[encoded data removed]",
      "text/plain": [
       "<Figure size 432x288 with 2 Axes>"
      ]
     },
     "metadata": {
      "needs_background": "light"
     },
     "output_type": "display_data"
    }
   ],
   "source": [
    "func.conf_plot(confusion_matrix(y_test_augmented, pred))"
   ]
  },
  {
   "cell_type": "code",
   "execution_count": 62,
   "id": "af88f3c4",
   "metadata": {},
   "outputs": [
    {
     "data": {
      "image/png": "[encoded data removed]",
      "text/plain": [
       "<Figure size 432x288 with 1 Axes>"
      ]
     },
     "metadata": {
      "needs_background": "light"
     },
     "output_type": "display_data"
    }
   ],
   "source": [
    "func.loss_plot(info.history)"
   ]
  },
  {
   "cell_type": "code",
   "execution_count": 63,
   "id": "44655bd5",
   "metadata": {},
   "outputs": [],
   "source": [
    "import gzip, sys, pickle\n",
    "f = gzip.open('./mnist.pkl.gz', 'rb')\n",
    "if sys.version_info < (3,):\n",
    "    data = pickle.load(f)\n",
    "else:\n",
    "    data = pickle.load(f, encoding='bytes')\n",
    "f.close()\n",
    "(X_train_mnist, y_train_mnist), (X_test_mnist, y_test_mnist) = data"
   ]
  },
  {
   "cell_type": "code",
   "execution_count": 64,
   "id": "14937eee",
   "metadata": {},
   "outputs": [
    {
     "data": {
      "text/plain": [
       "<matplotlib.image.AxesImage at 0x1fbd6192160>"
      ]
     },
     "execution_count": 64,
     "metadata": {},
     "output_type": "execute_result"
    },
    {
     "data": {
      "image/png": "[encoded data removed]",
      "text/plain": [
       "<Figure size 432x288 with 1 Axes>"
      ]
     },
     "metadata": {
      "needs_background": "light"
     },
     "output_type": "display_data"
    }
   ],
   "source": [
    "plt.imshow(X_train_mnist[1888], cmap='gray')"
   ]
  },
  {
   "cell_type": "markdown",
   "id": "87fb9ac4",
   "metadata": {},
   "source": [
    "# Training a CNN as a base model for transfer learning on MNIST"
   ]
  },
  {
   "cell_type": "code",
   "execution_count": 65,
   "id": "b795dde8",
   "metadata": {},
   "outputs": [],
   "source": [
    "base_model = Sequential()\n",
    "base_model.add(Conv2D(32, (3, 3), activation='relu', input_shape=(28, 28, 1)))\n",
    "base_model.add(MaxPool2D((2, 2)))   \n",
    "base_model.add(Conv2D(64, (3, 3), activation='relu'))\n",
    "base_model.add(MaxPool2D((2, 2)))  \n",
    "base_model.add(Conv2D(128, (3, 3), activation='relu'))\n",
    "base_model.add(MaxPool2D((2, 2))) \n",
    "base_model.add(Flatten()) \n",
    "base_model.add(Dense(32, activation='relu'))\n",
    "base_model.add(Dense(10, activation='softmax'))"
   ]
  },
  {
   "cell_type": "code",
   "execution_count": 66,
   "id": "ded73097",
   "metadata": {},
   "outputs": [
    {
     "name": "stdout",
     "output_type": "stream",
     "text": [
      "Epoch 1/10\n",
      "1688/1688 [==============================] - 15s 8ms/step - loss: 0.2736 - accuracy: 0.9277 - val_loss: 0.0876 - val_accuracy: 0.9725\n",
      "Epoch 2/10\n",
      "1688/1688 [==============================] - 18s 10ms/step - loss: 0.0812 - accuracy: 0.9757 - val_loss: 0.0640 - val_accuracy: 0.9802\n",
      "Epoch 3/10\n",
      "1688/1688 [==============================] - 16s 10ms/step - loss: 0.0631 - accuracy: 0.9810 - val_loss: 0.0722 - val_accuracy: 0.9782\n",
      "Epoch 4/10\n",
      "1688/1688 [==============================] - 18s 11ms/step - loss: 0.0504 - accuracy: 0.9845 - val_loss: 0.0618 - val_accuracy: 0.9843\n",
      "Epoch 5/10\n",
      "1688/1688 [==============================] - 25s 15ms/step - loss: 0.0433 - accuracy: 0.9870 - val_loss: 0.0482 - val_accuracy: 0.9858\n",
      "Epoch 6/10\n",
      "1688/1688 [==============================] - 29s 17ms/step - loss: 0.0377 - accuracy: 0.9882 - val_loss: 0.0483 - val_accuracy: 0.9863\n",
      "Epoch 7/10\n",
      "1688/1688 [==============================] - 32s 19ms/step - loss: 0.0306 - accuracy: 0.9903 - val_loss: 0.0495 - val_accuracy: 0.9867\n",
      "Epoch 8/10\n",
      "1688/1688 [==============================] - 35s 21ms/step - loss: 0.0295 - accuracy: 0.9903 - val_loss: 0.0659 - val_accuracy: 0.9860\n",
      "Epoch 9/10\n",
      "1688/1688 [==============================] - 30s 18ms/step - loss: 0.0228 - accuracy: 0.9932 - val_loss: 0.0782 - val_accuracy: 0.9830\n",
      "Epoch 10/10\n",
      "1688/1688 [==============================] - 27s 16ms/step - loss: 0.0239 - accuracy: 0.9929 - val_loss: 0.0650 - val_accuracy: 0.9852\n"
     ]
    }
   ],
   "source": [
    "base_model.compile(optimizer='adam',\n",
    "              loss='sparse_categorical_crossentropy',\n",
    "              metrics=['accuracy'])\n",
    "\n",
    "info = base_model.fit(X_train_mnist, y_train_mnist, epochs=10, validation_split=0.1)"
   ]
  },
  {
   "cell_type": "code",
   "execution_count": 67,
   "id": "fc97d39a",
   "metadata": {},
   "outputs": [
    {
     "name": "stdout",
     "output_type": "stream",
     "text": [
      "313/313 [==============================] - 2s 6ms/step\n"
     ]
    }
   ],
   "source": [
    "prob_pred = base_model.predict(X_test_mnist)"
   ]
  },
  {
   "cell_type": "code",
   "execution_count": 68,
   "id": "ea8ae9f7",
   "metadata": {},
   "outputs": [],
   "source": [
    "pred = prob_pred.argmax(axis=1) "
   ]
  },
  {
   "cell_type": "code",
   "execution_count": 69,
   "id": "42680e30",
   "metadata": {},
   "outputs": [
    {
     "name": "stdout",
     "output_type": "stream",
     "text": [
      "              precision    recall  f1-score   support\n",
      "\n",
      "           0       0.99      0.98      0.99       980\n",
      "           1       1.00      0.99      0.99      1135\n",
      "           2       0.98      0.97      0.97      1032\n",
      "           3       0.99      0.99      0.99      1010\n",
      "           4       0.98      0.99      0.99       982\n",
      "           5       0.96      0.99      0.98       892\n",
      "           6       0.99      0.96      0.98       958\n",
      "           7       0.96      0.98      0.97      1028\n",
      "           8       0.98      0.98      0.98       974\n",
      "           9       0.98      0.98      0.98      1009\n",
      "\n",
      "    accuracy                           0.98     10000\n",
      "   macro avg       0.98      0.98      0.98     10000\n",
      "weighted avg       0.98      0.98      0.98     10000\n",
      "\n"
     ]
    }
   ],
   "source": [
    "print(classification_report(y_test_mnist, pred))"
   ]
  },
  {
   "cell_type": "code",
   "execution_count": 70,
   "id": "08cb11d6",
   "metadata": {},
   "outputs": [
    {
     "data": {
      "image/png": "[encoded data removed]",
      "text/plain": [
       "<Figure size 432x288 with 2 Axes>"
      ]
     },
     "metadata": {
      "needs_background": "light"
     },
     "output_type": "display_data"
    }
   ],
   "source": [
    "func.conf_plot(confusion_matrix(y_test_mnist, pred))"
   ]
  },
  {
   "cell_type": "markdown",
   "id": "c49c9f58",
   "metadata": {},
   "source": [
    "# Making the final model with some layers of pre-trained CNN as base model"
   ]
  },
  {
   "cell_type": "code",
   "execution_count": 290,
   "id": "a99d7d5f",
   "metadata": {},
   "outputs": [],
   "source": [
    "final_model = Sequential(base_model.layers[:2])   \n",
    "final_model.add(Conv2D(128, (3, 3), activation='relu'))\n",
    "final_model.add(MaxPool2D((2, 2))) \n",
    "final_model.add(Flatten()) \n",
    "final_model.add(Dense(32, activation='relu'))\n",
    "final_model.add(Dense(10, activation='softmax')) \n",
    "\n",
    "for layer in final_model.layers[:2]:\n",
    "    layer.trainable = False"
   ]
  },
  {
   "cell_type": "code",
   "execution_count": 291,
   "id": "b47f10f3",
   "metadata": {},
   "outputs": [
    {
     "name": "stdout",
     "output_type": "stream",
     "text": [
      "Model: \"sequential_14\"\n",
      "_________________________________________________________________\n",
      " Layer (type)                Output Shape              Param #   \n",
      "=================================================================\n",
      " conv2d_6 (Conv2D)           (None, 26, 26, 32)        320       \n",
      "                                                                 \n",
      " max_pooling2d_6 (MaxPoolin  (None, 13, 13, 32)        0         \n",
      " g2D)                                                            \n",
      "                                                                 \n",
      " conv2d_17 (Conv2D)          (None, 11, 11, 128)       36992     \n",
      "                                                                 \n",
      " max_pooling2d_17 (MaxPooli  (None, 5, 5, 128)         0         \n",
      " ng2D)                                                           \n",
      "                                                                 \n",
      " flatten_14 (Flatten)        (None, 3200)              0         \n",
      "                                                                 \n",
      " dense_28 (Dense)            (None, 32)                102432    \n",
      "                                                                 \n",
      " dense_29 (Dense)            (None, 10)                330       \n",
      "                                                                 \n",
      "=================================================================\n",
      "Total params: 140074 (547.16 KB)\n",
      "Trainable params: 139754 (545.91 KB)\n",
      "Non-trainable params: 320 (1.25 KB)\n",
      "_________________________________________________________________\n"
     ]
    }
   ],
   "source": [
    "final_model.summary()"
   ]
  },
  {
   "cell_type": "code",
   "execution_count": 292,
   "id": "ddd75758",
   "metadata": {},
   "outputs": [
    {
     "name": "stdout",
     "output_type": "stream",
     "text": [
      "Epoch 1/25\n",
      "5/5 [==============================] - 2s 116ms/step - loss: 2.3038 - accuracy: 0.0867 - val_loss: 2.2579 - val_accuracy: 0.1500\n",
      "Epoch 2/25\n",
      "5/5 [==============================] - 0s 30ms/step - loss: 2.2401 - accuracy: 0.2267 - val_loss: 2.1966 - val_accuracy: 0.3500\n",
      "Epoch 3/25\n",
      "5/5 [==============================] - 0s 34ms/step - loss: 2.1645 - accuracy: 0.2600 - val_loss: 2.1146 - val_accuracy: 0.2000\n",
      "Epoch 4/25\n",
      "5/5 [==============================] - 0s 34ms/step - loss: 2.0641 - accuracy: 0.3600 - val_loss: 2.0077 - val_accuracy: 0.4000\n",
      "Epoch 5/25\n",
      "5/5 [==============================] - 0s 38ms/step - loss: 1.9457 - accuracy: 0.5400 - val_loss: 1.8677 - val_accuracy: 0.6000\n",
      "Epoch 6/25\n",
      "5/5 [==============================] - 0s 40ms/step - loss: 1.7921 - accuracy: 0.6333 - val_loss: 1.7010 - val_accuracy: 0.7000\n",
      "Epoch 7/25\n",
      "5/5 [==============================] - 0s 38ms/step - loss: 1.6165 - accuracy: 0.6933 - val_loss: 1.5164 - val_accuracy: 0.6000\n",
      "Epoch 8/25\n",
      "5/5 [==============================] - 0s 38ms/step - loss: 1.4184 - accuracy: 0.7200 - val_loss: 1.3165 - val_accuracy: 0.7500\n",
      "Epoch 9/25\n",
      "5/5 [==============================] - 0s 39ms/step - loss: 1.2201 - accuracy: 0.7600 - val_loss: 1.1186 - val_accuracy: 0.7500\n",
      "Epoch 10/25\n",
      "5/5 [==============================] - 0s 41ms/step - loss: 1.0272 - accuracy: 0.7800 - val_loss: 0.9310 - val_accuracy: 0.8500\n",
      "Epoch 11/25\n",
      "5/5 [==============================] - 0s 45ms/step - loss: 0.8450 - accuracy: 0.8400 - val_loss: 0.7555 - val_accuracy: 0.8500\n",
      "Epoch 12/25\n",
      "5/5 [==============================] - 0s 38ms/step - loss: 0.6848 - accuracy: 0.8867 - val_loss: 0.6155 - val_accuracy: 0.9000\n",
      "Epoch 13/25\n",
      "5/5 [==============================] - 0s 40ms/step - loss: 0.5571 - accuracy: 0.9267 - val_loss: 0.5218 - val_accuracy: 0.9500\n",
      "Epoch 14/25\n",
      "5/5 [==============================] - 0s 43ms/step - loss: 0.4489 - accuracy: 0.9400 - val_loss: 0.4186 - val_accuracy: 0.9500\n",
      "Epoch 15/25\n",
      "5/5 [==============================] - 0s 44ms/step - loss: 0.3655 - accuracy: 0.9400 - val_loss: 0.3638 - val_accuracy: 0.9500\n",
      "Epoch 16/25\n",
      "5/5 [==============================] - 0s 43ms/step - loss: 0.3007 - accuracy: 0.9600 - val_loss: 0.3167 - val_accuracy: 0.9500\n",
      "Epoch 17/25\n",
      "5/5 [==============================] - 0s 49ms/step - loss: 0.2594 - accuracy: 0.9600 - val_loss: 0.2716 - val_accuracy: 0.9500\n",
      "Epoch 18/25\n",
      "5/5 [==============================] - 0s 41ms/step - loss: 0.2172 - accuracy: 0.9667 - val_loss: 0.2657 - val_accuracy: 0.9500\n",
      "Epoch 19/25\n",
      "5/5 [==============================] - 0s 43ms/step - loss: 0.1865 - accuracy: 0.9667 - val_loss: 0.2270 - val_accuracy: 0.9500\n",
      "Epoch 20/25\n",
      "5/5 [==============================] - 0s 46ms/step - loss: 0.1614 - accuracy: 0.9733 - val_loss: 0.2111 - val_accuracy: 0.9500\n",
      "Epoch 21/25\n",
      "5/5 [==============================] - 0s 44ms/step - loss: 0.1423 - accuracy: 0.9800 - val_loss: 0.2188 - val_accuracy: 0.9500\n",
      "Epoch 22/25\n",
      "5/5 [==============================] - 0s 44ms/step - loss: 0.1363 - accuracy: 0.9867 - val_loss: 0.2031 - val_accuracy: 0.9000\n",
      "Epoch 23/25\n",
      "5/5 [==============================] - 0s 39ms/step - loss: 0.1095 - accuracy: 1.0000 - val_loss: 0.1964 - val_accuracy: 0.9500\n",
      "Epoch 24/25\n",
      "5/5 [==============================] - 0s 49ms/step - loss: 0.1025 - accuracy: 1.0000 - val_loss: 0.2012 - val_accuracy: 0.9500\n",
      "Epoch 25/25\n",
      "5/5 [==============================] - 0s 40ms/step - loss: 0.0888 - accuracy: 1.0000 - val_loss: 0.1836 - val_accuracy: 0.9500\n"
     ]
    }
   ],
   "source": [
    "final_model.compile(optimizer='adam', loss='sparse_categorical_crossentropy', metrics=['accuracy'])\n",
    "info = final_model.fit(X_train, y_train, epochs=25, validation_data=(X_val, y_val))"
   ]
  },
  {
   "cell_type": "code",
   "execution_count": 105,
   "id": "ad1a6848",
   "metadata": {},
   "outputs": [
    {
     "name": "stdout",
     "output_type": "stream",
     "text": [
      "1/1 [==============================] - 0s 55ms/step\n"
     ]
    }
   ],
   "source": [
    "prob_pred = final_model.predict(X_test)"
   ]
  },
  {
   "cell_type": "code",
   "execution_count": 106,
   "id": "bcff0b3a",
   "metadata": {},
   "outputs": [],
   "source": [
    "pred = prob_pred.argmax(axis=1) "
   ]
  },
  {
   "cell_type": "code",
   "execution_count": 107,
   "id": "6c84a54e",
   "metadata": {},
   "outputs": [
    {
     "name": "stdout",
     "output_type": "stream",
     "text": [
      "              precision    recall  f1-score   support\n",
      "\n",
      "           0       1.00      1.00      1.00         3\n",
      "           1       1.00      1.00      1.00         3\n",
      "           2       0.67      0.67      0.67         3\n",
      "           3       0.75      1.00      0.86         3\n",
      "           4       1.00      0.67      0.80         3\n",
      "           5       1.00      1.00      1.00         3\n",
      "           6       1.00      1.00      1.00         3\n",
      "           7       1.00      1.00      1.00         3\n",
      "           8       1.00      1.00      1.00         3\n",
      "           9       1.00      1.00      1.00         3\n",
      "\n",
      "    accuracy                           0.93        30\n",
      "   macro avg       0.94      0.93      0.93        30\n",
      "weighted avg       0.94      0.93      0.93        30\n",
      "\n"
     ]
    }
   ],
   "source": [
    "print(classification_report(y_test, pred))"
   ]
  },
  {
   "cell_type": "code",
   "execution_count": 108,
   "id": "b703831c",
   "metadata": {},
   "outputs": [
    {
     "data": {
      "image/png": "[encoded data removed]",
      "text/plain": [
       "<Figure size 432x288 with 2 Axes>"
      ]
     },
     "metadata": {
      "needs_background": "light"
     },
     "output_type": "display_data"
    }
   ],
   "source": [
    "func.conf_plot(confusion_matrix(y_test, pred))"
   ]
  },
  {
   "cell_type": "code",
   "execution_count": 109,
   "id": "205642ca",
   "metadata": {},
   "outputs": [
    {
     "data": {
      "image/png": "[encoded data removed]",
      "text/plain": [
       "<Figure size 432x288 with 1 Axes>"
      ]
     },
     "metadata": {
      "needs_background": "light"
     },
     "output_type": "display_data"
    }
   ],
   "source": [
    "func.loss_plot(info.history)"
   ]
  },
  {
   "cell_type": "code",
   "execution_count": null,
   "id": "43a7ec21",
   "metadata": {},
   "outputs": [],
   "source": []
  },
  {
   "cell_type": "code",
   "execution_count": 345,
   "id": "24a3cf79",
   "metadata": {},
   "outputs": [],
   "source": [
    "image = cv2.imread('./4591.jpg', cv2.IMREAD_GRAYSCALE)\n",
    "digits = func.split_digits(image, 110)"
   ]
  },
  {
   "cell_type": "code",
   "execution_count": 346,
   "id": "470c96bb",
   "metadata": {},
   "outputs": [
    {
     "data": {
      "text/plain": [
       "<matplotlib.image.AxesImage at 0x1fbeea50640>"
      ]
     },
     "execution_count": 346,
     "metadata": {},
     "output_type": "execute_result"
    },
    {
     "data": {
      "image/png": "[encoded data removed]",
      "text/plain": [
       "<Figure size 432x288 with 1 Axes>"
      ]
     },
     "metadata": {
      "needs_background": "light"
     },
     "output_type": "display_data"
    }
   ],
   "source": [
    "plt.imshow(image, cmap='gray')"
   ]
  },
  {
   "cell_type": "code",
   "execution_count": 347,
   "id": "64eb8bdd",
   "metadata": {},
   "outputs": [
    {
     "data": {
      "image/png": "[encoded data removed]",
      "text/plain": [
       "<Figure size 720x432 with 4 Axes>"
      ]
     },
     "metadata": {
      "needs_background": "light"
     },
     "output_type": "display_data"
    }
   ],
   "source": [
    "fig, axes = plt.subplots(1, len(digits), figsize=(10, 6)) \n",
    "axes.reshape(1, -1)\n",
    "for i, ax in enumerate(axes.flatten()):\n",
    "    ax.imshow(digits[i], cmap='gray')"
   ]
  },
  {
   "cell_type": "code",
   "execution_count": 348,
   "id": "4c626677",
   "metadata": {},
   "outputs": [
    {
     "name": "stdout",
     "output_type": "stream",
     "text": [
      "1/1 [==============================] - 0s 48ms/step\n",
      "1/1 [==============================] - 0s 44ms/step\n",
      "1/1 [==============================] - 0s 49ms/step\n",
      "1/1 [==============================] - 0s 52ms/step\n"
     ]
    }
   ],
   "source": [
    "number = 0\n",
    "for digit in digits:\n",
    "    number = number * 10 + cnn_model_v1.predict(digit.reshape(1,28,28)).argmax(axis=1)[0]"
   ]
  },
  {
   "cell_type": "code",
   "execution_count": 349,
   "id": "359775e4",
   "metadata": {},
   "outputs": [
    {
     "data": {
      "text/plain": [
       "4591"
      ]
     },
     "execution_count": 349,
     "metadata": {},
     "output_type": "execute_result"
    }
   ],
   "source": [
    "number"
   ]
  },
  {
   "cell_type": "code",
   "execution_count": null,
   "id": "0e8a78e1",
   "metadata": {},
   "outputs": [],
   "source": []
  },
  {
   "cell_type": "code",
   "execution_count": null,
   "id": "375dd553",
   "metadata": {},
   "outputs": [],
   "source": []
  }
 ],
 "metadata": {
  "kernelspec": {
   "display_name": "Python 3 (ipykernel)",
   "language": "python",
   "name": "python3"
  },
  "language_info": {
   "codemirror_mode": {
    "name": "ipython",
    "version": 3
   },
   "file_extension": ".py",
   "mimetype": "text/x-python",
   "name": "python",
   "nbconvert_exporter": "python",
   "pygments_lexer": "ipython3",
   "version": "3.9.13"
  }
 },
 "nbformat": 4,
 "nbformat_minor": 5
}
